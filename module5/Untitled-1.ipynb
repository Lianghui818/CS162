{
 "cells": [
  {
   "cell_type": "code",
   "execution_count": 265,
   "metadata": {},
   "outputs": [],
   "source": [
    "def insertion_sort(a_list):    \n",
    "  \"\"\"    \n",
    "  Sorts a_list in ascending order    \n",
    "  \"\"\"    \n",
    "  for index in ralengthge(1, len(a_list)):        \n",
    "    value = a_list[index]        \n",
    "    pos = index - 1        \n",
    "    while pos >= 0 and a_list[pos] > value:            \n",
    "      a_list[pos + 1] = a_list[pos]            \n",
    "      pos -= 1        \n",
    "    a_list[pos + 1] = value"
   ]
  },
  {
   "cell_type": "code",
   "execution_count": 266,
   "metadata": {},
   "outputs": [],
   "source": [
    "def binary_search(a_list, target):    \n",
    "  \"\"\"    \n",
    "  Searches a_list for an occurrence of target    \n",
    "  If found, returns the index of its position in the list    \n",
    "  If not found, returns -1, indicating the target value isn't in the list    \n",
    "  \"\"\"    \n",
    "  first = 0    \n",
    "  last = len(a_list) - 1    \n",
    "  while first <= last:        \n",
    "    middle = (first + last) // 2        \n",
    "    if a_list[middle] == target:            \n",
    "      return middle        \n",
    "    if a_list[middle] > target:            \n",
    "      last = middle - 1        \n",
    "    else:            \n",
    "      first = middle + 1    \n",
    "  return -1"
   ]
  },
  {
   "cell_type": "code",
   "execution_count": 267,
   "metadata": {},
   "outputs": [
    {
     "name": "stdout",
     "output_type": "stream",
     "text": [
      "TargetNotFound Error: Target value not found in the list.\n"
     ]
    }
   ],
   "source": [
    "class TargetNotFound(Exception):\n",
    "    \"\"\" Create a TargetNotFound exception class \"\"\"\n",
    "    pass\n",
    "\n",
    "def bin_except(a_list, target):    \n",
    "    \"\"\"    \n",
    "    Searches a_list for an occurrence of target    \n",
    "    If found, returns the index of its position in the list    \n",
    "    If not found, returns -1, indicating the target value isn't in the list    \n",
    "    \"\"\"    \n",
    "    first = 0    \n",
    "    last = len(a_list) - 1    \n",
    "    \n",
    "    while first <= last:        \n",
    "        middle = (first + last) // 2        \n",
    "        if a_list[middle] == target:            \n",
    "            return middle        \n",
    "        if a_list[middle] > target:            \n",
    "            last = middle - 1        \n",
    "        else:            \n",
    "            first = middle + 1\n",
    "\n",
    "    raise TargetNotFound(\"Target value not found in the list.\")     # Raise the error we defined\n",
    "\n",
    "\n",
    "def main():\n",
    "    a_list = [2, 5, 7, 10, 14, 19, 22, 25, 29, 31]      # A in sorted order list\n",
    "    target = 15\n",
    "\n",
    "    try:\n",
    "        index = bin_except(a_list, target)\n",
    "        print(f\"At index {index} we found target value {target}.\")\n",
    "    except TargetNotFound as tnf:\n",
    "        print(\"TargetNotFound Error:\", tnf)\n",
    "\n",
    "if __name__ == \"__main__\":\n",
    "    main()"
   ]
  },
  {
   "cell_type": "code",
   "execution_count": 268,
   "metadata": {},
   "outputs": [],
   "source": [
    "class Box:\n",
    "    def __init__(self, box_l, box_w, box_h):\n",
    "        self.__length = box_l\n",
    "        self.__width = box_w\n",
    "        self.__height = box_h\n",
    "\n",
    "    def get_length(self):\n",
    "        return self.__length\n",
    "\n",
    "    def get_width(self):\n",
    "        return self.__width\n",
    "\n",
    "    def get_height(self):\n",
    "        return self.__height\n",
    "    \n",
    "    def volume(self):\n",
    "        return self.__length * self.__width * self.__height\n",
    "\n",
    "\n",
    "def box_sort(boxlist):\n",
    "    \"\"\"    \n",
    "    Sorts a_list in ascending order    \n",
    "    \"\"\"\n",
    "    for i in range(1, len(boxlist)):\n",
    "        box = boxlist[i]\n",
    "        j = i - 1\n",
    "        while j >= 0 and boxlist[j].volume() < box.volume():\n",
    "            boxlist[j + 1] = boxlist[j]\n",
    "            j -= 1\n",
    "        boxlist[j + 1] = box\n",
    "    # for x in range(1, len(boxlist)):\n",
    "    #     box = boxlist[y]\n",
    "    #     y = x - 1\n",
    "    #     while y >= 0 and boxlist[x].volume() < box.volume():\n",
    "    #         boxlist[y + 1] = boxlist[x]\n",
    "    #         y -= 1\n",
    "    #     boxlist[y + 1] = box\n",
    "\n",
    "def main():\n",
    "    b1 = Box(3.4, 19.8, 2.1)\n",
    "    b2 = Box(1.0, 1.0, 1.0)\n",
    "    b3 = Box(8.2, 8.2, 4.5)\n",
    "    box_list = [b1, b2, b3]\n",
    "    box_sort(box_list)\n",
    "    # print(box_list)\n",
    "if __name__ == '__main__':\n",
    "    main()"
   ]
  },
  {
   "cell_type": "code",
   "execution_count": 269,
   "metadata": {},
   "outputs": [
    {
     "name": "stdout",
     "output_type": "stream",
     "text": [
      "Box: length=8.2, width=8.2, height=4.5, volume=302.58\n",
      "Box: length=3.4, width=19.8, height=2.1, volume=141.372\n",
      "Box: length=1.0, width=1.0, height=1.0, volume=1.0\n"
     ]
    }
   ],
   "source": [
    "class Box:\n",
    "    \"\"\" Create a Box class with length, width and height \"\"\"\n",
    "\n",
    "    def __init__(self, box_length, box_width, box_height):\n",
    "        self.__length = box_length\n",
    "        self.__width = box_width\n",
    "        self.__height = box_height\n",
    "\n",
    "    def volume(self):\n",
    "        return self.__length * self.__width * self.__height\n",
    "\n",
    "    def get_length(self):\n",
    "        return self.__length\n",
    "\n",
    "    def get_width(self):\n",
    "        return self.__width\n",
    "\n",
    "    def get_height(self):\n",
    "        return self.__height\n",
    "\n",
    "\n",
    "def box_sort(box_list):\n",
    "    for i in range(1, len(box_list)):\n",
    "        key_box = box_list[i]\n",
    "        j = i - 1\n",
    "        while j >= 0 and box_list[j].volume() < key_box.volume():\n",
    "            box_list[j + 1] = box_list[j]\n",
    "            j -= 1\n",
    "        box_list[j + 1] = key_box\n",
    "\n",
    "\n",
    "# Example usage\n",
    "b1 = Box(3.4, 19.8, 2.1)\n",
    "b2 = Box(1.0, 1.0, 1.0)\n",
    "b3 = Box(8.2, 8.2, 4.5)\n",
    "\n",
    "box_list = [b1, b2, b3]\n",
    "box_sort(box_list)\n",
    "\n",
    "for box in box_list:\n",
    "    print(f\"Box: length={box.get_length()}, width={box.get_width()}, height={box.get_height()}, volume={box.volume()}\")\n"
   ]
  },
  {
   "cell_type": "code",
   "execution_count": 270,
   "metadata": {},
   "outputs": [
    {
     "name": "stdout",
     "output_type": "stream",
     "text": [
      "['apple', 'marble', 'maRker', 'Zebra']\n"
     ]
    }
   ],
   "source": [
    "def insertionsort(string_list):\n",
    "    \"\"\" Create a insertion sort function to sort a list of strings instead of numbers\"\"\"\n",
    "    for index in range(1, len(string_list)):\n",
    "        value = string_list[index]\n",
    "        pos = index - 1\n",
    "\n",
    "        while pos >= 0 and string_list[pos].lower() > value.lower():      # ignore case\n",
    "            string_list[pos + 1] = string_list[pos]\n",
    "            pos -= 1\n",
    "\n",
    "        string_list[pos + 1] = value\n",
    "\n",
    "    return string_list\n",
    "\n",
    "def main():\n",
    "    example_list = [\"Zebra\", \"apple\", \"maRker\", \"marble\"]     # example\n",
    "    sorted_list = insertionsort(example_list)\n",
    "    print(sorted_list)\n",
    "\n",
    "if __name__ == '__main__':\n",
    "    main()\n"
   ]
  },
  {
   "cell_type": "code",
   "execution_count": 271,
   "metadata": {},
   "outputs": [
    {
     "name": "stdout",
     "output_type": "stream",
     "text": [
      "Bubble Sort: Comparisons: 6, Exchanges: 2\n",
      "Insertion Sort: Comparisons: 20, Exchanges: 16\n"
     ]
    }
   ],
   "source": [
    "def bubble_count(a_list):\n",
    "    \"\"\"function to count the number of comparisons and the number of exchanges in bubble sort\"\"\"\n",
    "    comparisons = 0     # Initialize to 0\n",
    "    exchanges = 0       # Initialize to 0\n",
    "    length = len(a_list)\n",
    "    for pass_num in range(length):\n",
    "        swapped = False\n",
    "        for index in range(0, length-pass_num-1):\n",
    "            comparisons += 1\n",
    "            if a_list[index] > a_list[index+1]:\n",
    "                a_list[index], a_list[index+1] = a_list[index+1], a_list[index]\n",
    "                exchanges += 1\n",
    "                swapped = True\n",
    "        if not swapped:\n",
    "            break\n",
    "    return comparisons, exchanges       # returns two values (comparisons first, exchanges second)\n",
    "\n",
    "\n",
    "def insertion_count(a_list):\n",
    "    \"\"\"function to count the number of comparisons and the number of exchanges in insertion sort\"\"\"\n",
    "    comparisons = 0     # Initialize to 0\n",
    "    exchanges = 0       # Initialize to 0\n",
    "    length = len(a_list)\n",
    "    for index in range(1, length):\n",
    "        value = a_list[index]\n",
    "        pos = index - 1\n",
    "\n",
    "        while pos >= 0:\n",
    "            comparisons += 1\n",
    "            if a_list[pos] > value:\n",
    "                a_list[pos + 1] = a_list[pos]\n",
    "                pos -= 1\n",
    "                exchanges += 1\n",
    "            else:\n",
    "                break\n",
    "\n",
    "        a_list[pos + 1] = value\n",
    "\n",
    "    return comparisons, exchanges       # returns two values (comparisons first, exchanges second)\n",
    "\n",
    "def main():\n",
    "\n",
    "    \"\"\"Bubble Sort\"\"\"\n",
    "    list_1 = [2, 4, 6, 3]\n",
    "    comparisons_1, exchanges_1 = bubble_count(list_1)\n",
    "    print(f\"Bubble Sort: Comparisons: {comparisons_1}, Exchanges: {exchanges_1}\")\n",
    "\n",
    "    \"\"\"Insertion Sort\"\"\"\n",
    "    list_2 = [5, 4, 1, 7, 2, 0, 6, 3]\n",
    "    comparisons_2, exchanges_2 = insertion_count(list_2)\n",
    "    print(f\"Insertion Sort: Comparisons: {comparisons_2}, Exchanges: {exchanges_2}\")\n",
    "\n",
    "if __name__ == '__main__':\n",
    "    main()\n"
   ]
  },
  {
   "cell_type": "code",
   "execution_count": 272,
   "metadata": {},
   "outputs": [
    {
     "ename": "TypeError",
     "evalue": "sum() missing 1 required positional argument: 'num_2'",
     "output_type": "error",
     "traceback": [
      "\u001b[1;31m---------------------------------------------------------------------------\u001b[0m",
      "\u001b[1;31mTypeError\u001b[0m                                 Traceback (most recent call last)",
      "Cell \u001b[1;32mIn[272], line 23\u001b[0m\n\u001b[0;32m     20\u001b[0m     file_sum(\u001b[39m\"\u001b[39m\u001b[39minput_numbers.txt\u001b[39m\u001b[39m\"\u001b[39m)\n\u001b[0;32m     22\u001b[0m \u001b[39mif\u001b[39;00m \u001b[39m__name__\u001b[39m \u001b[39m==\u001b[39m \u001b[39m'\u001b[39m\u001b[39m__main__\u001b[39m\u001b[39m'\u001b[39m:\n\u001b[1;32m---> 23\u001b[0m     main()\n",
      "Cell \u001b[1;32mIn[272], line 20\u001b[0m, in \u001b[0;36mmain\u001b[1;34m()\u001b[0m\n\u001b[0;32m     19\u001b[0m \u001b[39mdef\u001b[39;00m \u001b[39mmain\u001b[39m():\n\u001b[1;32m---> 20\u001b[0m     file_sum(\u001b[39m\"\u001b[39;49m\u001b[39minput_numbers.txt\u001b[39;49m\u001b[39m\"\u001b[39;49m)\n",
      "Cell \u001b[1;32mIn[272], line 7\u001b[0m, in \u001b[0;36mfile_sum\u001b[1;34m(input_file)\u001b[0m\n\u001b[0;32m      4\u001b[0m \u001b[39mwith\u001b[39;00m \u001b[39mopen\u001b[39m(input_file, \u001b[39m'\u001b[39m\u001b[39mr\u001b[39m\u001b[39m'\u001b[39m) \u001b[39mas\u001b[39;00m infile:          \n\u001b[0;32m      5\u001b[0m     numbers \u001b[39m=\u001b[39m [\u001b[39mfloat\u001b[39m(line\u001b[39m.\u001b[39mstrip()) \u001b[39mfor\u001b[39;00m line \u001b[39min\u001b[39;00m infile]\n\u001b[1;32m----> 7\u001b[0m sum_of_numbers \u001b[39m=\u001b[39m \u001b[39msum\u001b[39;49m(numbers)      \n\u001b[0;32m      9\u001b[0m \u001b[39mwith\u001b[39;00m \u001b[39mopen\u001b[39m(\u001b[39m'\u001b[39m\u001b[39msum.txt\u001b[39m\u001b[39m'\u001b[39m, \u001b[39m'\u001b[39m\u001b[39mw\u001b[39m\u001b[39m'\u001b[39m) \u001b[39mas\u001b[39;00m outfile:       \n\u001b[0;32m     10\u001b[0m     outfile\u001b[39m.\u001b[39mwrite(\u001b[39mstr\u001b[39m(sum_of_numbers))      \n",
      "\u001b[1;31mTypeError\u001b[0m: sum() missing 1 required positional argument: 'num_2'"
     ]
    }
   ],
   "source": [
    "def file_sum(input_file):\n",
    "   \n",
    "    try:\n",
    "        with open(input_file, 'r') as infile:          \n",
    "            numbers = [float(line.strip()) for line in infile]\n",
    "\n",
    "        sum_of_numbers = sum(numbers)      \n",
    "\n",
    "        with open('sum.txt', 'w') as outfile:       \n",
    "            outfile.write(str(sum_of_numbers))      \n",
    "        \n",
    "        print(f\"Sum of numbers is: {sum_of_numbers}\")      \n",
    "\n",
    "    except FileNotFoundError:       \n",
    "        print(\"Input file not found.\")\n",
    "\n",
    "\n",
    "\"\"\"Example\"\"\"\n",
    "def main():\n",
    "    file_sum(\"input_numbers.txt\")\n",
    "\n",
    "if __name__ == '__main__':\n",
    "    main()\n"
   ]
  },
  {
   "cell_type": "code",
   "execution_count": null,
   "metadata": {},
   "outputs": [
    {
     "name": "stdout",
     "output_type": "stream",
     "text": [
      "['Akerlof', 'Spence', 'Stiglitz']\n"
     ]
    }
   ],
   "source": [
    "import json\n",
    "\n",
    "class NobelData:\n",
    "\n",
    "    def __init__(self):\n",
    "        # read the JSON file and store the data in a class attribute\n",
    "\n",
    "        with open(\"nobels.json\", \"r\") as infile:\n",
    "            self.data = json.load(infile)\n",
    "\n",
    "    def search_nobel(self, year, category):\n",
    "        # filter the data by the given year and category\n",
    "        filtered_data = [p for p in self.data[\"prizes\"] if p[\"year\"] == year and p[\"category\"] == category]\n",
    "        # extract the surnames of the winners from the filtered data\n",
    "        surnames = []\n",
    "\n",
    "        for prize in filtered_data:\n",
    "            for laureate in prize[\"laureates\"]:\n",
    "                surnames.append(laureate[\"surname\"])\n",
    "        # sort the surnames in normal dictionary order and return them\n",
    "        return sorted(surnames)\n",
    "    \n",
    "nd = NobelData()\n",
    "print(nd.search_nobel(\"2001\", \"economics\"))"
   ]
  },
  {
   "cell_type": "code",
   "execution_count": null,
   "metadata": {},
   "outputs": [
    {
     "name": "stdout",
     "output_type": "stream",
     "text": [
      "['Akerlof', 'Spence', 'Stiglitz']\n"
     ]
    }
   ],
   "source": [
    "import json\n",
    "\n",
    "class NobelData:\n",
    "    def __init__(self):\n",
    "        with open(\"nobels.json\", 'r') as infile:\n",
    "            self._data = json.load(infile)\n",
    "\n",
    "    def search_nobel(self, year, category):\n",
    "        result = []\n",
    "        for prize in self._data[\"prizes\"]:\n",
    "            if prize[\"year\"] == year and prize[\"category\"] == category:\n",
    "                laureates = prize.get(\"laureates\", [])\n",
    "                for laureate in laureates:\n",
    "                    surname = laureate.get(\"surname\")\n",
    "                    if surname:\n",
    "                        result.append(surname)\n",
    "\n",
    "        return sorted(result)\n",
    "\n",
    "# Example usage:\n",
    "nd = NobelData()\n",
    "print(nd.search_nobel(\"2001\", \"economics\"))\n"
   ]
  },
  {
   "cell_type": "code",
   "execution_count": null,
   "metadata": {},
   "outputs": [
    {
     "ename": "TypeError",
     "evalue": "string indices must be integers, not 'str'",
     "output_type": "error",
     "traceback": [
      "\u001b[1;31m---------------------------------------------------------------------------\u001b[0m",
      "\u001b[1;31mTypeError\u001b[0m                                 Traceback (most recent call last)",
      "Cell \u001b[1;32mIn[5], line 28\u001b[0m\n\u001b[0;32m     26\u001b[0m sd \u001b[39m=\u001b[39m SatData()\n\u001b[0;32m     27\u001b[0m dbns \u001b[39m=\u001b[39m [\u001b[39m\"\u001b[39m\u001b[39m02M303\u001b[39m\u001b[39m\"\u001b[39m, \u001b[39m\"\u001b[39m\u001b[39m02M294\u001b[39m\u001b[39m\"\u001b[39m, \u001b[39m\"\u001b[39m\u001b[39m01M450\u001b[39m\u001b[39m\"\u001b[39m, \u001b[39m\"\u001b[39m\u001b[39m02M418\u001b[39m\u001b[39m\"\u001b[39m]\n\u001b[1;32m---> 28\u001b[0m sd\u001b[39m.\u001b[39;49msave_as_csv(dbns)\n",
      "Cell \u001b[1;32mIn[5], line 21\u001b[0m, in \u001b[0;36mSatData.save_as_csv\u001b[1;34m(self, dbns)\u001b[0m\n\u001b[0;32m     18\u001b[0m \u001b[39mwith\u001b[39;00m \u001b[39mopen\u001b[39m(\u001b[39m\"\u001b[39m\u001b[39moutput.csv\u001b[39m\u001b[39m\"\u001b[39m, \u001b[39m'\u001b[39m\u001b[39mw\u001b[39m\u001b[39m'\u001b[39m) \u001b[39mas\u001b[39;00m file:\n\u001b[0;32m     19\u001b[0m     file\u001b[39m.\u001b[39mwrite(\u001b[39m'\u001b[39m\u001b[39m\"\u001b[39m\u001b[39mDBN\u001b[39m\u001b[39m\"\u001b[39m\u001b[39m,\u001b[39m\u001b[39m\"\u001b[39m\u001b[39mSchool Name\u001b[39m\u001b[39m\"\u001b[39m\u001b[39m,\u001b[39m\u001b[39m\"\u001b[39m\u001b[39mNumber of SAT Test Takers\u001b[39m\u001b[39m\"\u001b[39m\u001b[39m,\u001b[39m\u001b[39m\"\u001b[39m\u001b[39mSAT Critical Reading Avg. Score\u001b[39m\u001b[39m\"\u001b[39m\u001b[39m,\u001b[39m\u001b[39m\"\u001b[39m\u001b[39mSAT Math Avg. Score\u001b[39m\u001b[39m\"\u001b[39m\u001b[39m,\u001b[39m\u001b[39m\"\u001b[39m\u001b[39mSAT Writing Avg. Score\u001b[39m\u001b[39m\"\u001b[39m\u001b[39m\\n\u001b[39;00m\u001b[39m'\u001b[39m)\n\u001b[1;32m---> 21\u001b[0m     \u001b[39mfor\u001b[39;00m school_data \u001b[39min\u001b[39;00m \u001b[39msorted\u001b[39;49m(\u001b[39mself\u001b[39;49m\u001b[39m.\u001b[39;49m_data, key\u001b[39m=\u001b[39;49m\u001b[39mlambda\u001b[39;49;00m x: x[\u001b[39m\"\u001b[39;49m\u001b[39mdbn\u001b[39;49m\u001b[39m\"\u001b[39;49m]):\n\u001b[0;32m     22\u001b[0m         \u001b[39mif\u001b[39;00m school_data[\u001b[39m\"\u001b[39m\u001b[39mdbn\u001b[39m\u001b[39m\"\u001b[39m] \u001b[39min\u001b[39;00m dbns:\n\u001b[0;32m     23\u001b[0m             file\u001b[39m.\u001b[39mwrite(\u001b[39mself\u001b[39m\u001b[39m.\u001b[39m_get_csv_row(school_data))\n",
      "Cell \u001b[1;32mIn[5], line 21\u001b[0m, in \u001b[0;36mSatData.save_as_csv.<locals>.<lambda>\u001b[1;34m(x)\u001b[0m\n\u001b[0;32m     18\u001b[0m \u001b[39mwith\u001b[39;00m \u001b[39mopen\u001b[39m(\u001b[39m\"\u001b[39m\u001b[39moutput.csv\u001b[39m\u001b[39m\"\u001b[39m, \u001b[39m'\u001b[39m\u001b[39mw\u001b[39m\u001b[39m'\u001b[39m) \u001b[39mas\u001b[39;00m file:\n\u001b[0;32m     19\u001b[0m     file\u001b[39m.\u001b[39mwrite(\u001b[39m'\u001b[39m\u001b[39m\"\u001b[39m\u001b[39mDBN\u001b[39m\u001b[39m\"\u001b[39m\u001b[39m,\u001b[39m\u001b[39m\"\u001b[39m\u001b[39mSchool Name\u001b[39m\u001b[39m\"\u001b[39m\u001b[39m,\u001b[39m\u001b[39m\"\u001b[39m\u001b[39mNumber of SAT Test Takers\u001b[39m\u001b[39m\"\u001b[39m\u001b[39m,\u001b[39m\u001b[39m\"\u001b[39m\u001b[39mSAT Critical Reading Avg. Score\u001b[39m\u001b[39m\"\u001b[39m\u001b[39m,\u001b[39m\u001b[39m\"\u001b[39m\u001b[39mSAT Math Avg. Score\u001b[39m\u001b[39m\"\u001b[39m\u001b[39m,\u001b[39m\u001b[39m\"\u001b[39m\u001b[39mSAT Writing Avg. Score\u001b[39m\u001b[39m\"\u001b[39m\u001b[39m\\n\u001b[39;00m\u001b[39m'\u001b[39m)\n\u001b[1;32m---> 21\u001b[0m     \u001b[39mfor\u001b[39;00m school_data \u001b[39min\u001b[39;00m \u001b[39msorted\u001b[39m(\u001b[39mself\u001b[39m\u001b[39m.\u001b[39m_data, key\u001b[39m=\u001b[39m\u001b[39mlambda\u001b[39;00m x: x[\u001b[39m\"\u001b[39;49m\u001b[39mdbn\u001b[39;49m\u001b[39m\"\u001b[39;49m]):\n\u001b[0;32m     22\u001b[0m         \u001b[39mif\u001b[39;00m school_data[\u001b[39m\"\u001b[39m\u001b[39mdbn\u001b[39m\u001b[39m\"\u001b[39m] \u001b[39min\u001b[39;00m dbns:\n\u001b[0;32m     23\u001b[0m             file\u001b[39m.\u001b[39mwrite(\u001b[39mself\u001b[39m\u001b[39m.\u001b[39m_get_csv_row(school_data))\n",
      "\u001b[1;31mTypeError\u001b[0m: string indices must be integers, not 'str'"
     ]
    }
   ],
   "source": [
    "import json\n",
    "\n",
    "class SatData:\n",
    "    def __init__(self):\n",
    "        with open(\"sat.json\", 'r') as file:\n",
    "            self._data = json.load(file)\n",
    "\n",
    "    def _get_csv_row(self, school_data):\n",
    "        row = f'\"{school_data[\"dbn\"]}\",'\n",
    "        row += f'\"{school_data[\"school_name\"].replace(\",\", \"\")}\",'\n",
    "        row += f'{school_data[\"num_of_sat_test_takers\"]},'\n",
    "        row += f'{school_data[\"sat_critical_reading_avg_score\"]},'\n",
    "        row += f'{school_data[\"sat_math_avg_score\"]},'\n",
    "        row += f'{school_data[\"sat_writing_avg_score\"]}\\n'\n",
    "        return row\n",
    "\n",
    "    def save_as_csv(self, dbns):\n",
    "        resdate = []\n",
    "        for data in self._data:\n",
    "            \n",
    "        # with open(\"output.csv\", 'w') as file:\n",
    "        #     file.write('\"DBN\",\"School Name\",\"Number of SAT Test Takers\",\"SAT Critical Reading Avg. Score\",\"SAT Math Avg. Score\",\"SAT Writing Avg. Score\"\\n')\n",
    "\n",
    "        #     for school_data in sorted(self._data, key=lambda x: x[\"dbn\"]):\n",
    "        #         if school_data[\"dbn\"] in dbns:\n",
    "        #             file.write(self._get_csv_row(school_data))\n",
    "\n",
    "# Example usage:\n",
    "sd = SatData()\n",
    "dbns = [\"02M303\", \"02M294\", \"01M450\", \"02M418\"]\n",
    "sd.save_as_csv(dbns)\n",
    "\n"
   ]
  },
  {
   "cell_type": "code",
   "execution_count": null,
   "metadata": {},
   "outputs": [
    {
     "name": "stdout",
     "output_type": "stream",
     "text": [
      "[['row-9npv_vew4-pcfh', '00000000-0000-0000-5C48-EF3DBFD34A62', 0, 1425759032, None, 1425759032, None, '{ }', '01M696', 'BARD HIGH SCHOOL EARLY COLLEGE ', '138', '630', '608', '630'], ['row-g32f.vc2z~72sa', '00000000-0000-0000-FAD2-6D16F945232C', 0, 1425759032, None, 1425759032, None, '{ }', '02M047', 'AMERICAN SIGN LANG ENG DUAL ', '11', '405', '415', '385'], ['row-34w7_bdjv_umrh', '00000000-0000-0000-CCF1-97FC48A49202', 0, 1425759032, None, 1425759032, None, '{ }', '02M288', 'FOOD AND FNANCE HIGH SCHOOL ', '50', '422', '412', '407'], ['row-qywq.mgeq_yst8', '00000000-0000-0000-2C3A-7D93E69BD7B5', 0, 1425759032, None, 1425759032, None, '{ }', '02M294', 'HIGH SCHOOL FOR HIST AND COMM ', '51', '382', '364', '366'], ['row-6vwh~55rz.ugbe', '00000000-0000-0000-687B-9B6426B56DAC', 0, 1425759032, None, 1425759032, None, '{ }', '02M296', 'High School of Hospitality Management ', '43', '397', '415', '391'], ['row-r3ef_p3u5_ax74', '00000000-0000-0000-B999-317F5BCDCBC2', 0, 1425759032, None, 1425759032, None, '{ }', '02M298', 'PACE HIGH SCHOOL ', '71', '424', '448', '423'], ['row-ce7d~bnz4-955x', '00000000-0000-0000-3449-BD79ABD84CD8', 0, 1425759032, None, 1425759032, None, '{ }', '02M300', 'Urban Assembly School of Design and Construction ', '49', '405', '446', '415'], ['row-yvp3_ay3d~8d5p', '00000000-0000-0000-46A9-FDFC5A93EEF3', 0, 1425759032, None, 1425759032, None, '{ }', '02M303', 'The Facing History School ', '59', '381', '373', '377'], ['row-2kar-fvjg_cdye', '00000000-0000-0000-205C-B0E50922951F', 0, 1425759032, None, 1425759032, None, '{ }', '02M305', 'Urban Assembly Academy of Government and Law ', '48', '411', '406', '411'], ['row-u99i-azvs~kgv9', '00000000-0000-0000-EC46-890F69867BA8', 0, 1425759032, None, 1425759032, None, '{ }', '02M308', 'LOWER MANHATTAN ARTS ACADEMY ', '35', '409', '381', '412'], ['row-iw85-59ya.d8eu', '00000000-0000-0000-9007-08E955CD4579', 0, 1425759032, None, 1425759032, None, '{ }', '02M313', 'The James Baldwin School ', '45', '421', '419', '394'], ['row-46ua~vzz4.xam4', '00000000-0000-0000-E00B-E72A38E805C6', 0, 1425759032, None, 1425759032, None, '{ }', '02M316', 'Urban Assembly School of Business for Young Women ', '52', '401', '409', '391'], ['row-a8km~668n~6erf', '00000000-0000-0000-3281-80041E057C14', 0, 1425759032, None, 1425759032, None, '{ }', '02M374', 'GRAMERCY ARTS HIGH SCHOOL ', '49', '395', '376', '386'], ['row-anbn-s9mg.85uj', '00000000-0000-0000-647A-B0528B79D1BD', 0, 1425759032, None, 1425759032, None, '{ }', '02M376', 'NYC iSchool ', None, None, None, None], ['row-pfvv.u44e.8ufk', '00000000-0000-0000-EA0B-D978D512D39E', 0, 1425759032, None, 1425759032, None, '{ }', '02M400', 'HIGH SCHOOL ENVRNMNTL STUDIES ', '216', '465', '480', '448'], ['row-632c~2zbz_jwfn', '00000000-0000-0000-498F-F26FBE3D0584', 0, 1425759032, None, 1425759032, None, '{ }', '02M407', 'Institute for Collaborative Education ', '42', '484', '478', '472'], ['row-teqq.wj4g.2b4b', '00000000-0000-0000-2313-37760E4649F0', 0, 1425759032, None, 1425759032, None, '{ }', '02M408', 'Professional Performng Arts School ', '69', '495', '465', '499'], ['row-yscw~3idw~rdcd', '00000000-0000-0000-3753-EE1DFCA63D6E', 0, 1425759032, None, 1425759032, None, '{ }', '02M411', 'Baruch College Campus High School ', '96', '523', '583', '528'], ['row-q48g~r36g.u3q4', '00000000-0000-0000-DD22-34F07CD9FABD', 0, 1425759032, None, 1425759032, None, '{ }', '02M412', 'New York City Laboratory School Collab Studies ', '108', '561', '597', '567'], ['row-rky9-yhuw_ru3y', '00000000-0000-0000-6173-FED7DA1FD44D', 0, 1425759032, None, 1425759032, None, '{ }', '02M413', 'SCHOOL OF THE FUTURE ', '79', '475', '488', '466'], ['row-p7zm-ucrx-ub93', '00000000-0000-0000-0162-C31E471B9476', 0, 1425759032, None, 1425759032, None, '{ }', '02M414', 'NEW YORK CITY MUSEUM SCHOOL ', '90', '454', '448', '435'], ['row-4jt4_yme6_czwn', '00000000-0000-0000-A74D-90273CBB5523', 0, 1425759032, None, 1425759032, None, '{ }', '02M416', 'ELEANOR ROOSEVELT HIGH SCHOOL ', '122', '555', '596', '567'], ['row-b79e.q7xd_fqpt', '00000000-0000-0000-C308-ED051CE53F31', 0, 1425759032, None, 1425759032, None, '{ }', '02M418', 'Millennium High School ', '140', '512', '554', '523'], ['row-ehcf.98zu~8x5b', '00000000-0000-0000-E1E6-66254E44162D', 0, 1425759032, None, 1425759032, None, '{ }', '02M419', 'LANDMARK SCHOOL ', '47', '369', '370', '359'], ['row-wutc_3awt.xcbh', '00000000-0000-0000-91E4-95EB4ADB0F73', 0, 1425759032, None, 1425759032, None, '{ }', '02M420', 'HIGH SCHOOL HLTH PROF HUMAN ', '250', '446', '458', '440'], ['row-hnhe.iypx-kdrm', '00000000-0000-0000-255C-98D7EEA08D57', 0, 1425759032, None, 1425759032, None, '{ }', '02M425', 'HIGH SCHOOL LEADERSHIP PUB SVC ', '74', '419', '429', '406'], ['row-ddvu-8qgf~h9qy', '00000000-0000-0000-D703-713E25D08F94', 0, 1425759032, None, 1425759032, None, '{ }', '02M429', 'LEGACY SCH INTEGRATED STUDIES ', '31', '379', '356', '354'], ['row-um62.zaij.5c7w', '00000000-0000-0000-0FA3-6550F5EEB200', 0, 1425759032, None, 1425759032, None, '{ }', '02M439', 'MANHATTAN VILLAGE ACADEMY ', '90', '465', '479', '472'], ['row-f3de~3wz8-gqkw', '00000000-0000-0000-7202-003684C8E8A0', 0, 1425759032, None, 1425759032, None, '{ }', '02M440', 'Bayard Rustin High School Humanities ', '136', '387', '394', '379'], ['row-6cc2_q8d8_8m6i', '00000000-0000-0000-FB85-EC222BACD34A', 0, 1425759032, None, 1425759032, None, '{ }', '02M445', 'Seward Park High School ', None, None, None, None], ['row-bdhv_76rn_pyqg', '00000000-0000-0000-6D10-67664B4812C9', 0, 1425759032, None, 1425759032, None, '{ }', '02M449', 'VANGUARD HIGH SCHOOL ', '54', '367', '395', '373'], ['row-89wa_hzf9_4fb5', '00000000-0000-0000-34E3-AE36C80063CB', 0, 1425759032, None, 1425759032, None, '{ }', '02M459', 'MANHATTAN INTERNATIONAL HIGH SCHOOL ', '31', '418', '463', '415'], ['row-mfuh-shgw~vvw2', '00000000-0000-0000-A993-18A56E32DE00', 0, 1425759032, None, 1425759032, None, '{ }', '02M460', 'WASHINGTON IRVING HIGH SCHOOL ', '163', '381', '385', '368'], ['row-n52p-xne8.82i4', '00000000-0000-0000-F7AF-E4F1D7CEE955', 0, 1425759032, None, 1425759032, None, '{ }', '02M473', 'YABC at Washington Irving High School ', None, None, None, None], ['row-j7dr-aeap~k6u5', '00000000-0000-0000-D89F-1AEA494ECB13', 0, 1425759032, None, 1425759032, None, '{ }', '02M475', 'STUYVESANT HIGH SCHOOL ', '804', '674', '735', '678'], ['row-4tdn~vzb7-n97m', '00000000-0000-0000-9A6C-2720FF9516DD', 0, 1425759032, None, 1425759032, None, '{ }', '02M489', 'HS of Economics And Finance ', '147', '451', '503', '453'], ['row-madh~73ed~84jq', '00000000-0000-0000-2C3E-CD48A6D36CE0', 0, 1425759032, None, 1425759032, None, '{ }', '02M500', 'UNITY HIGH SCHOOL ', '31', '371', '369', '368'], ['row-efgu_urgb-evjd', '00000000-0000-0000-BBD2-E5229A1B533C', 0, 1425759032, None, 1425759032, None, '{ }', '02M519', 'TALENT UNLIMITED HIGH SCHOOL ', '124', '465', '454', '461'], ['row-k4uz-zvt3-g2z5', '00000000-0000-0000-F649-0907537D61CA', 0, 1425759032, None, 1425759032, None, '{ }', '02M520', 'MURRY BERGTRAUM HIGH SCHOOL ', '287', '411', '439', '396'], ['row-aj5w~h8wn-n4xi', '00000000-0000-0000-0721-66A7E89EBE41', 0, 1425759032, None, 1425759032, None, '{ }', '02M529', 'Jacqueline Kennedy Onassis High School ', '88', '420', '424', '398'], ['row-e3q4~px8c-nky4', '00000000-0000-0000-E20F-C0DC4F09A6C0', 0, 1425759032, None, 1425759032, None, '{ }', '02M531', 'NEW YORK CITY PUB SCH REP COMP ', '32', '415', '405', '397'], ['row-rh8z~rdtr.c4wu', '00000000-0000-0000-4BDB-3E7FDE1120EE', 0, 1425759032, None, 1425759032, None, '{ }', '02M535', 'Park West High School ', None, None, None, None], ['row-evh6_xeua-99bz', '00000000-0000-0000-A92E-F614048BA323', 0, 1425759032, None, 1425759032, None, '{ }', '02M542', 'MANHATTAN BRIDGE HIGH SCHOOL ', '31', '345', '380', '325'], ['row-8evv_3zvt_a96r', '00000000-0000-0000-0093-332EF50E612D', 0, 1425759032, None, 1425759032, None, '{ }', '02M543', 'NEW DESIGN HIGH SCHOOL ', '74', '390', '385', '387'], ['row-h6p6_2jwb.ewe3', '00000000-0000-0000-6A8A-37B05C55B413', 0, 1425759032, None, 1425759032, None, '{ }', '02M544', 'INDEPENDENCE HIGH SCHOOL ', '16', '404', '419', '395'], ['row-bvy4~ip33_mesd', '00000000-0000-0000-3871-5BB33063C7A3', 0, 1425759032, None, 1425759032, None, '{ }', '02M545', 'Dual Language and Asian Studies High School ', '47', '416', '612', '419'], ['row-z7xq-hmed-3pc8', '00000000-0000-0000-DE58-53B08F982A23', 0, 1425759032, None, 1425759032, None, '{ }', '02M550', 'Liberty High School Academy for Newcomers ', '32', '343', '465', '362'], ['row-sng9-f6wk~emjx', '00000000-0000-0000-ABA0-60924367BEB9', 0, 1425759032, None, 1425759032, None, '{ }', '02M551', 'New York Harbor High School ', '54', '372', '369', '368'], ['row-2uci_mfhq_7edx', '00000000-0000-0000-AB50-84DF27584EDB', 0, 1425759032, None, 1425759032, None, '{ }', '02M560', 'City as School ', '57', '468', '441', '434'], ['row-np35~n5cf_2kzd', '00000000-0000-0000-21BB-63E443B5C0B1', 0, 1425759032, None, 1425759032, None, '{ }', '02M565', 'URBAN ACADEMY ', '34', '513', '460', '502'], ['row-xshu.b9pp.axs6', '00000000-0000-0000-A62E-599979641C6A', 0, 1425759032, None, 1425759032, None, '{ }', '02M570', 'Satellite Academy High School ', '16', '400', '336', '376'], ['row-b8gb.zpqx.ywqd', '00000000-0000-0000-F6DC-E50A80F81958', 0, 1425759032, None, 1425759032, None, '{ }', '02M575', 'Manhattan Comprehensive Night Day High School ', '141', '355', '475', '339'], ['row-ep5v_jvkb.3vyb', '00000000-0000-0000-196F-0CE4633DEA42', 0, 1425759032, None, 1425759032, None, '{ }', '02M580', 'Richard R Green High School of Teaching ', '79', '425', '429', '419'], ['row-r8z4~yrdh_ftrd', '00000000-0000-0000-F54A-A111C64BCCAB', 0, 1425759032, None, 1425759032, None, '{ }', '02M586', 'HARVEY MILK SCHOOL ', '11', '429', '382', '416'], ['row-p3ub-p96f.p8q4', '00000000-0000-0000-F816-62D62107939C', 0, 1425759032, None, 1425759032, None, '{ }', '02M600', 'HIGH SCHOOL FASHION INDUSTRIES ', '301', '419', '420', '413'], ['row-mdr5-6zfi~fp48', '00000000-0000-0000-2825-689DF2DD3058', 0, 1425759032, None, 1425759032, None, '{ }', '02M605', 'HUMANITIES PREPARATORY ACADEMY ', '37', '433', '405', '417'], ['row-atnt-etkf.hj85', '00000000-0000-0000-E839-AA532591CB2D', 0, 1425759032, None, 1425759032, None, '{ }', '02M615', 'Chelsea Career and Technical Education High School ', '61', '393', '412', '376'], ['row-mqwv.bes4_aepc', '00000000-0000-0000-7E76-75617250BDDD', 0, 1425759032, None, 1425759032, None, '{ }', '02M620', 'NORMAN THOMAS HIGH SCHOOL ', '152', '378', '387', '370'], ['row-2tiw.4bfa~55bs', '00000000-0000-0000-D0E3-6BA6DB23BCE4', 0, 1425759032, None, 1425759032, None, '{ }', '02M625', 'HS of Graphic Commnctn And Art ', '125', '370', '378', '360'], ['row-mzub-deuf~hr2r', '00000000-0000-0000-331B-735D61B121B4', 0, 1425759032, None, 1425759032, None, '{ }', '02M630', 'HIGH SCHOOL OF ART AND DESIGN ', '212', '427', '423', '418'], ['row-y6y9-uvc2.nzar', '00000000-0000-0000-963F-E9F0648B0065', 0, 1425759032, None, 1425759032, None, '{ }', '02M655', 'LIFE SCIENCES SECONDARY SCHOOL ', '71', '399', '389', '383'], ['row-e7fu-yz74.ejid', '00000000-0000-0000-2C47-E260B749181F', 0, 1425759032, None, 1425759032, None, '{ }', '02M690', 'SCHOOL FOR THE PHYSICAL CITY ', '14', '382', '404', '359'], ['row-dnrv.q3w2.ats2', '00000000-0000-0000-B14A-87641A65151C', 0, 1425759032, None, 1425759032, None, '{ }', '03M283', 'MANHATTAN THEATRE LAB HIGH SCHOOL ', '23', '406', '378', '391'], ['row-h2hq~5mk2-9tz5', '00000000-0000-0000-2D30-F5AD8A782A2C', 0, 1425759032, None, 1425759032, None, '{ }', '03M299', 'High School For Arts, Imagination And Inquiry ', '57', '364', '378', '357'], ['row-9s25-e6gi_bjnf', '00000000-0000-0000-0BFD-18ABF06C5238', 0, 1425759032, None, 1425759032, None, '{ }', '03M307', 'Urban Assembly School For Media Studies ', '53', '374', '363', '377'], ['row-mwyt~yf9g.nf95', '00000000-0000-0000-65F7-DCEFEAD9CBAE', 0, 1425759032, None, 1425759032, None, '{ }', '03M404', 'INNOVATION DIPLOMA PLUS HIGH SCHOOL ', None, None, None, None], ['row-zbfj-3b4z_bnjz', '00000000-0000-0000-6F1C-A5074663E02D', 0, 1425759032, None, 1425759032, None, '{ }', '03M415', 'WADLEIGH SECONDARY SCHOOL ', '68', '376', '373', '371'], ['row-fkv7-irn9~xtqq', '00000000-0000-0000-2A50-122F12DA87C8', 0, 1425759032, None, 1425759032, None, '{ }', '03M470', 'LOUIS D BRANDEIS HIGH SCHOOL ', '170', '357', '357', '345'], ['row-dbtn-htav-jgsm', '00000000-0000-0000-9A0F-C5B0DFD91F69', 0, 1425759032, None, 1425759032, None, '{ }', '03M479', 'BEACON SCHOOL ', '237', '573', '563', '575'], ['row-c3j6-xmju-rn9j', '00000000-0000-0000-5160-27657B0437B4', 0, 1425759032, None, 1425759032, None, '{ }', '03M485', 'LAGUARDIA HIGH SCH MUSIC ART ', '594', '558', '555', '567'], ['row-sxea-rgrd-v4fe', '00000000-0000-0000-B313-AAA02A130E92', 0, 1425759032, None, 1425759032, None, '{ }', '03M494', 'Martin Luther King Jr HS Arts and Technology ', '60', '407', '425', '397'], ['row-pznp~tbn8-x8td', '00000000-0000-0000-811D-5D6F94C3F64C', 0, 1425759032, None, 1425759032, None, '{ }', '03M505', 'Edward A. Reynolds West Side High School ', '18', '410', '407', '388'], ['row-purg_8zi4_bjup', '00000000-0000-0000-E226-7AEE77281B11', 0, 1425759032, None, 1425759032, None, '{ }', '03M541', 'MANHATTAN/HUNTER COLL HS SCI ', '80', '481', '525', '469'], ['row-2ftr_bp5b-uzmh', '00000000-0000-0000-E2FA-569DDA432D77', 0, 1425759032, None, 1425759032, None, '{ }', '03M860', 'FREDERICK DOUGLAS ACADEMY II ', '33', '414', '410', '406'], ['row-mzy8.j8qc~zy4e', '00000000-0000-0000-2425-8332BF408FF2', 0, 1425759032, None, 1425759032, None, '{ }', '04M409', 'COALITION SCH SOCIAL CHANGE ', '39', '390', '372', '383'], ['row-a625-t4en_7bkd', '00000000-0000-0000-474D-C838A5E56B41', 0, 1425759032, None, 1425759032, None, '{ }', '04M435', 'Manhattan Center for Science and Math ', '312', '485', '531', '475'], ['row-kh6p_rhw7~8fgq', '00000000-0000-0000-98FD-346A9ED19C2D', 0, 1425759032, None, 1425759032, None, '{ }', '04M495', 'PARK EAST HIGH SCHOOL ', '46', '360', '374', '362'], ['row-2ksk-8kye.5v8y', '00000000-0000-0000-F77B-5C41D8BA8D2A', 0, 1425759032, None, 1425759032, None, '{ }', '04M555', 'CENTRAL PARK SECONDARY SCHOOL ', '35', '362', '378', '356'], ['row-rhqi~er3y_26mu', '00000000-0000-0000-3550-7C41B456C20E', 0, 1425759032, None, 1425759032, None, '{ }', '04M610', 'YOUNG WOMEN LEADERSHIP SCHOOL ', '48', '451', '445', '470'], ['row-nu8j-ty2a_28wg', '00000000-0000-0000-7D3B-E4D731D1FEC1', 0, 1425759032, None, 1425759032, None, '{ }', '04M610', \"Young Women's Leadership School of Astoria \", None, None, None, None], ['row-pj7s-s5qp~ktwa', '00000000-0000-0000-C321-2A71C8A63273', 0, 1425759032, None, 1425759032, None, '{ }', '04M635', 'Academy of Environment Science Secondary School ', '39', '380', '385', '354'], ['row-qjwn_qj2m~cnhk', '00000000-0000-0000-1D3A-C734EE24211E', 0, 1425759032, None, 1425759032, None, '{ }', '04M680', 'HERITAGE SCHOOL ', '47', '369', '385', '361'], ['row-kj7m~fqfj-khhi', '00000000-0000-0000-7CC0-DAB105CD8741', 0, 1425759032, None, 1425759032, None, '{ }', '04M695', 'URBAN PEACE ACADEMY ', '23', '366', '382', '362'], ['row-4hvr-jn4h~6gec', '00000000-0000-0000-B5D8-00F45A369D46', 0, 1425759032, None, 1425759032, None, '{ }', '05M285', 'HARLEM RENAISSANCE HIGH SCHOOL ', '19', '402', '394', '367'], ['row-wsjw.9nyk~qt77', '00000000-0000-0000-56FC-E0CDDB78E0C6', 0, 1425759032, None, 1425759032, None, '{ }', '05M304', 'MOTT HALL HIGH SCHOOL ', '63', '424', '421', '410'], ['row-ygxp_uzcy.nuqh', '00000000-0000-0000-B09F-B5AE7AE0E873', 0, 1425759032, None, 1425759032, None, '{ }', '05M367', 'Academy for Social Action ', None, None, None, None], ['row-4vp8_txs8.krrr', '00000000-0000-0000-BC2D-9D7B8BC4AA10', 0, 1425759032, None, 1425759032, None, '{ }', '05M369', 'URBAN ASSEMBLY SCHOOL FOR THE PERFORMIN ', '34', '349', '370', '363'], ['row-iijc-rbrw-vryn', '00000000-0000-0000-DF6C-8953656BC0ED', 0, 1425759032, None, 1425759032, None, '{ }', '05M469', 'CHOIR ACADEMY OF HARLEM ', '16', '420', '369', '401'], ['row-qhyx.8us5-nnwr', '00000000-0000-0000-B0B3-5A73EA0C121F', 0, 1425759032, None, 1425759032, None, '{ }', '05M499', 'FREDERICK DOUGLASS ACADEMY ', '216', '465', '481', '466'], ['row-cx6x-tpst.v6ru', '00000000-0000-0000-C8E9-902DB6385F74', 0, 1425759032, None, 1425759032, None, '{ }', '05M670', 'THURGOOD MARSHALL ACADEMY ', '52', '423', '434', '404'], ['row-vm29_b4ty_msrv', '00000000-0000-0000-932C-7CDCEB130E54', 0, 1425759032, None, 1425759032, None, '{ }', '05M685', 'Bread & Rose Intergrated Arts High School ', '54', '364', '378', '359'], ['row-3im7.n437.g9eg', '00000000-0000-0000-90B7-91CC3F61C5B5', 0, 1425759032, None, 1425759032, None, '{ }', '05M692', 'High School For Math Science Engineering City Coll ', '106', '592', '627', '575'], ['row-tcn2-jcit.56ky', '00000000-0000-0000-9E27-2CC3C783DEA0', 0, 1425759032, None, 1425759032, None, '{ }', '06M293', 'MS 293 City College Academy of the Arts ', None, None, None, None], ['row-n7sb_ufzv~ixdu', '00000000-0000-0000-39F8-F88A628A8BFF', 0, 1425759032, None, 1425759032, None, '{ }', '06M346', 'Community Health Academy Heights ', None, None, None, None], ['row-hfyr_axkt.fv5j', '00000000-0000-0000-F57F-5BC0D3A6E5F4', 0, 1425759032, None, 1425759032, None, '{ }', '06M348', 'MS 348 Washington Heights Expeditionary Learning S ', None, None, None, None], ['row-3q6e~ne54~tczn', '00000000-0000-0000-825F-B4697ECB9F14', 0, 1425759032, None, 1425759032, None, '{ }', '06M457', 'YABC AT G. WASHINGTON EDUCATIONAL CAMPUS ', None, None, None, None], ['row-szw6.2vrd~wnzt', '00000000-0000-0000-C820-C3C787F96DF9', 0, 1425759032, None, 1425759032, None, '{ }', '06M462', 'HIGH SCHOOL FOR INTL BUS/FIN ', '56', '383', '384', '379'], ['row-huwz.8aus-7ckh', '00000000-0000-0000-434F-CBFFFC8E6B1D', 0, 1425759032, None, 1425759032, None, '{ }', '06M463', 'HS for Media and Communications-George Washingto ', '75', '366', '376', '353'], ['row-cd7t.dh32-ad3u', '00000000-0000-0000-3FDD-84F9B2D3E1D7', 0, 1425759032, None, 1425759032, None, '{ }', '06M467', 'High School for Law and Public Service ', '106', '388', '388', '378'], ['row-prhy-h6by~gmnq', '00000000-0000-0000-9F11-D0D58832DE4A', 0, 1425759032, None, 1425759032, None, '{ }', '06M468', 'HIGH SCHOOL FOR HLTH CARER/SER ', '28', '385', '417', '373'], ['row-ranw.tewf_p65w', '00000000-0000-0000-173C-B901734CFF73', 0, 1425759032, None, 1425759032, None, '{ }', '06M540', 'A Philip Randolph Campus High School ', '193', '436', '451', '421'], ['row-htpi.2t28-ipqf', '00000000-0000-0000-8AB3-C32DC844E939', 0, 1425759032, None, 1425759032, None, '{ }', '06M552', 'GREGORIO LUPERON PREP SCHOOL ', '60', '342', '384', '333'], ['row-2t59_n6rh-tgeq', '00000000-0000-0000-4D67-75C4CC0FDB3E', 0, 1425759032, None, 1425759032, None, '{ }', '07X221', 'SOUTH BRONX PREPARATORY ', '60', '399', '393', '382'], ['row-59tv-2ivs~jevp', '00000000-0000-0000-E3F0-480D22DF55C0', 0, 1425759032, None, 1425759032, None, '{ }', '07X321', 'CROTANA ACADEMY HIGH SCHOOL ', None, None, None, None], ['row-n7h9_hm9k~4fth', '00000000-0000-0000-04CE-38E225F80617', 0, 1425759032, None, 1425759032, None, '{ }', '07X334', 'INTERNATIONAL COMMUNITY HIGH SCHOOL ', '33', '322', '335', '327'], ['row-ypvv.6pdh.2bye', '00000000-0000-0000-3B30-AFDC3FFA4259', 0, 1425759032, None, 1425759032, None, '{ }', '07X379', 'Jill Chaifetz Transfer High School ', None, None, None, None], ['row-bsmq.f9i2.ajcf', '00000000-0000-0000-06BD-C3C2D0453866', 0, 1425759032, None, 1425759032, None, '{ }', '07X381', 'BRONX HAVEN HIGH SCHOOL ', '15', '335', '342', '372'], ['row-fm5h.piq6-jwdr', '00000000-0000-0000-9DF4-730E6A9EC758', 0, 1425759032, None, 1425759032, None, '{ }', '07X427', 'Community High School Social Justice ', '50', '372', '351', '359'], ['row-ti9q.ztwh_v8w8', '00000000-0000-0000-1BE0-26687998131B', 0, 1425759032, None, 1425759032, None, '{ }', '07X473', 'Mott Haven Village Preparatory High School ', '48', '345', '352', '349'], ['row-efuc~gm89.9f3b', '00000000-0000-0000-5442-8647DBEBE27F', 0, 1425759032, None, 1425759032, None, '{ }', '07X495', 'UNIVERSITY HEIGHTS HIGH SCHOOL ', '66', '401', '388', '396'], ['row-hu4d_harz.8nqc', '00000000-0000-0000-E2A6-3BAECEBE570B', 0, 1425759032, None, 1425759032, None, '{ }', '07X500', 'HOSTOS-LINCOLN ACADEMY SCIENCE ', '62', '460', '455', '457'], ['row-m6w7.d66b~ryw8', '00000000-0000-0000-2A89-13C8FE93A564', 0, 1425759032, None, 1425759032, None, '{ }', '07X520', 'FOREIGN LANGUAGE ACADEMY ', '73', '418', '429', '415'], ['row-2f5y_6fvm.4ipc', '00000000-0000-0000-BD3B-ABC2C69A5028', 0, 1425759032, None, 1425759032, None, '{ }', '07X527', 'Bronx Leadership Academy II High School ', '55', '377', '381', '379'], ['row-f2pm~9jup_ecgv', '00000000-0000-0000-B686-EB85E6CB90B0', 0, 1425759032, None, 1425759032, None, '{ }', '07X547', 'NEW EXPLORERS HIGH SCHOOL ', '36', '382', '376', '376'], ['row-h86v_cgk5~rptm', '00000000-0000-0000-CECF-0003A8720464', 0, 1425759032, None, 1425759032, None, '{ }', '07X548', 'Urban Assembly School for Careers in Sports ', '58', '381', '423', '384'], ['row-y3vn-7fhr~hmt4', '00000000-0000-0000-13D1-A16A5CABCF77', 0, 1425759032, None, 1425759032, None, '{ }', '07X551', 'Bronx Academy of Letters ', '51', '416', '406', '435'], ['row-agh7~74y6_kmw8', '00000000-0000-0000-8310-4B9B00173C8C', 0, 1425759032, None, 1425759032, None, '{ }', '07X600', 'ALFRED E SMITH HIGH SCHOOL ', '53', '367', '372', '354'], ['row-c66d_2w3e_ykca', '00000000-0000-0000-CC23-DB0F68AC5220', 0, 1425759032, None, 1425759032, None, '{ }', '07X655', 'Samuel Gompers Vocational Technical High School ', '105', '370', '385', '354'], ['row-d8ky.uagn_hx4f', '00000000-0000-0000-DCD1-F66D431A5D39', 0, 1425759032, None, 1425759032, None, '{ }', '07X670', 'Health Opportunities High School ', '81', '400', '391', '387'], ['row-ar3w~e5zr-hj3a', '00000000-0000-0000-0495-7BEE29D9B5A8', 0, 1425759032, None, 1425759032, None, '{ }', '08X282', \"YOUNG WOMEN'S LEADERSHIP SCH BRONX CMP \", '56', '395', '407', '388'], ['row-2fwr.2hed~uuf7', '00000000-0000-0000-6858-29BCAD2F9139', 0, 1425759032, None, 1425759032, None, '{ }', '08X293', 'Renaissance High School Music Theater T ', '47', '389', '375', '375'], ['row-hqnq_w9u9~r4fd', '00000000-0000-0000-699A-97924325E98A', 0, 1425759032, None, 1425759032, None, '{ }', '08X295', 'Gateway School for Environmental Research & Tech ', '31', '377', '367', '368'], ['row-vefn-eraj.9zsd', '00000000-0000-0000-078B-D0A7B8AF98B7', 0, 1425759032, None, 1425759032, None, '{ }', '08X305', 'Pablo Neruda Academy Architecture & World Studies ', '54', '359', '358', '338'], ['row-9h3i-pmpi~du6k', '00000000-0000-0000-7226-B409E1B76694', 0, 1425759032, None, 1425759032, None, '{ }', '08X312', 'MILLENNIUM ART ACADEMY ', '41', '380', '389', '371'], ['row-syum-nkeb.4un8', '00000000-0000-0000-4B28-2F9D3D73FC92', 0, 1425759032, None, 1425759032, None, '{ }', '08X332', 'HOLCOMBE L. RUCKER SCHOOL OF COMMUNITY ', '34', '374', '362', '366'], ['row-pk7v~hsji_3zvf', '00000000-0000-0000-E4D6-27E2991FE2CD', 0, 1425759032, None, 1425759032, None, '{ }', '08X377', 'BRONX COMMUNITY HIGH SCHOOL (X377) ', '10', '416', '393', '414'], ['row-e4nz_8nr5.n6n3', '00000000-0000-0000-DFD7-C0FB2A46BD3E', 0, 1425759032, None, 1425759032, None, '{ }', '08X405', 'HERBERT H LEHMAN HIGH SCHOOL ', '448', '414', '433', '397'], ['row-y5bb~rasf_g98h', '00000000-0000-0000-7331-BCA9BBDBB213', 0, 1425759032, None, 1425759032, None, '{ }', '08X408', 'YABC AT HERBERT H. LEHMAN HIGH SCHOOL ', '8', '358', '343', '385'], ['row-2myj_tgjn-zu6m', '00000000-0000-0000-F116-3B248E55F698', 0, 1425759032, None, 1425759032, None, '{ }', '08X450', 'ADLAI E STEVENSON HIGH SCHOOL ', None, None, None, None], ['row-pfbk_4aec-b2pa', '00000000-0000-0000-AEB4-DA290728B48B', 0, 1425759032, None, 1425759032, None, '{ }', '08X452', 'The Bronx Guild High School ', '36', '381', '361', '352'], ['row-bpjh~z3vm.xaet', '00000000-0000-0000-608E-A32F8A2DDE97', 0, 1425759032, None, 1425759032, None, '{ }', '08X507', 'YABC AT ADLAI STEVENSON HIGH SCHOOL ', None, None, None, None], ['row-9t5p_m5mt-xguf', '00000000-0000-0000-7416-061956F6F847', 0, 1425759032, None, 1425759032, None, '{ }', '08X519', 'Felisa Rincon de Gautier Inst for Law & Pub Policy ', '43', '373', '376', '367'], ['row-pwmr.7h62~94x5', '00000000-0000-0000-17F2-EBD612D29B22', 0, 1425759032, None, 1425759032, None, '{ }', '08X530', 'BANANA KELLY HIGH SCHOOL ', '48', '377', '382', '368'], ['row-rtfb-ucbv_i5vx', '00000000-0000-0000-4009-D9F5ADD9C287', 0, 1425759032, None, 1425759032, None, '{ }', '08X540', 'HIGH SCHOOL CMTY RESEARCH LRN ', '29', '356', '376', '368'], ['row-xaeg.7j8t.c6jg', '00000000-0000-0000-3D5B-5D8DBDCC12CF', 0, 1425759032, None, 1425759032, None, '{ }', '08X560', 'BRONX ACADEMY HIGH SCHOOL ', '19', '373', '354', '364'], ['row-xzjq.d38f~puhn', '00000000-0000-0000-B8BF-1CB068901D87', 0, 1425759032, None, 1425759032, None, '{ }', '08X650', 'Jane Addams Vocational High School ', '152', '370', '377', '363'], ['row-9dds-dqdp-xsk9', '00000000-0000-0000-FDC6-C50A8D4B0541', 0, 1425759032, None, 1425759032, None, '{ }', '09X227', 'Bronx Expeditionary Learning High School ', '46', '371', '358', '343'], ['row-int8_kckz-8ubk', '00000000-0000-0000-1465-3A5B380CD0B8', 0, 1425759032, None, 1425759032, None, '{ }', '09X231', 'Eagle Academy for Young Men ', '66', '391', '399', '386'], ['row-gbkb-4b84-uhnj', '00000000-0000-0000-1104-63F6FA459425', 0, 1425759032, None, 1425759032, None, '{ }', '09X239', 'Urban Assembly Academy History & Citizenship ', '22', '359', '380', '371'], ['row-8rfe-7nfn-ktua', '00000000-0000-0000-E9FA-D86FD0519A88', 0, 1425759032, None, 1425759032, None, '{ }', '09X241', 'Urban Assembly School for Applied Math Science ', None, None, None, None], ['row-fauj.4ati-gnmd', '00000000-0000-0000-0C37-25047CAE54B9', 0, 1425759032, None, 1425759032, None, '{ }', '09X250', 'EXIMIUS COLLEGE PREP ACADEMY ', '44', '401', '383', '387'], ['row-ph5h~s359~wt9b', '00000000-0000-0000-64F5-DD31B5916C98', 0, 1425759032, None, 1425759032, None, '{ }', '09X252', 'MOTT HALL BRONX HIGH SCHOOL ', '63', '395', '398', '399'], ['row-aqe4_wszv_y6sj', '00000000-0000-0000-766F-9B20D583F519', 0, 1425759032, None, 1425759032, None, '{ }', '09X260', 'Bronx Center for Science and Mathematics ', '73', '447', '495', '454'], ['row-y4nw~5hjc-3u2w', '00000000-0000-0000-3E49-1230DB85BBCC', 0, 1425759032, None, 1425759032, None, '{ }', '09X263', 'VALIDUS PREPARATORY ACADEMY ', '90', '359', '347', '356'], ['row-753x-zi9x~wkd5', '00000000-0000-0000-4EDB-CEFD6FB88EC9', 0, 1425759032, None, 1425759032, None, '{ }', '09X276', 'LEADERSHIP INSTITUTE ', '21', '362', '380', '358'], ['row-938w-95kr-bz3t', '00000000-0000-0000-CFE5-634833D4BEA8', 0, 1425759032, None, 1425759032, None, '{ }', '09X297', 'MORRIS ACADEMY FOR COLLABORATIVE STUDIE ', '22', '388', '352', '378'], ['row-wauy.2eqz-35sa', '00000000-0000-0000-F9CB-BC140BE20C14', 0, 1425759032, None, 1425759032, None, '{ }', '09X329', 'DREAMYARD PREPARATORY SCHOOL ', '46', '394', '404', '389'], ['row-mk5e_tzvf~8tu2', '00000000-0000-0000-C64E-C7B12213DE0A', 0, 1425759032, None, 1425759032, None, '{ }', '09X365', 'ACADEMY FOR LANGUAGE AND TECHNOLOGY ', None, None, None, None], ['row-mtih-geh8-j25j', '00000000-0000-0000-1A64-6D8560A11E56', 0, 1425759032, None, 1425759032, None, '{ }', '09X403', 'Bronx International High School ', '37', '335', '335', '340'], ['row-dc22~gr68.uvn3', '00000000-0000-0000-2A1F-9FC44A9F6E22', 0, 1425759032, None, 1425759032, None, '{ }', '09X404', 'HIGH SCHOOL FOR EXCELLENCE ', '32', '366', '373', '371'], ['row-dstk_szg4-6a2u', '00000000-0000-0000-B909-CEFCE724D58A', 0, 1425759032, None, 1425759032, None, '{ }', '09X412', 'BRONX HIGH SCHOOL OF BUSINESS ', '35', '369', '397', '366'], ['row-pf64_urk9-z6w6', '00000000-0000-0000-A90B-0235B3D93B43', 0, 1425759032, None, 1425759032, None, '{ }', '09X413', 'HIGH SCHOOL MEDICAL SCIENCES ', '98', '423', '450', '435'], ['row-6xgz~desd.jpac', '00000000-0000-0000-16C1-7FEEA8BC37A1', 0, 1425759032, None, 1425759032, None, '{ }', '09X414', 'Jonathan Levin HS for Media and Communications ', '81', '347', '353', '351'], ['row-5rse.2hhc.r8v2', '00000000-0000-0000-5C8C-5C1723C9E933', 0, 1425759032, None, 1425759032, None, '{ }', '09X505', 'BRONX SCH LAW GOVMT & JUSTICE ', '87', '413', '390', '420'], ['row-rkj6-ay3q.su7a', '00000000-0000-0000-138F-2684C693E46A', 0, 1425759032, None, 1425759032, None, '{ }', '09X517', 'Frederick Douglass Academy III Secondary School ', '44', '399', '414', '406'], ['row-fapt-b97a_4p4n', '00000000-0000-0000-74DB-6C623698EAB3', 0, 1425759032, None, 1425759032, None, '{ }', '09X525', 'Bronx Leadership Academy High School ', '116', '402', '397', '396'], ['row-xnkh_sydt~yi27', '00000000-0000-0000-A7AC-08D66923ED9C', 0, 1425759032, None, 1425759032, None, '{ }', '09X543', 'HIGH SCHOOL VIOLIN AND DANCE ', '26', '332', '379', '337'], ['row-27v4.i75k_mkpw', '00000000-0000-0000-9124-9A9870AE7994', 0, 1425759032, None, 1425759032, None, '{ }', '10X141', 'RIVERDALE KINGSBRIDGE ACADEMY ', '101', '475', '479', '470'], ['row-nhde_nnwt_uecu', '00000000-0000-0000-D620-0C246BC43298', 0, 1425759032, None, 1425759032, None, '{ }', '10X213', 'BRONX ENGINEERING & TECH ACADEMY ', '36', '374', '402', '364'], ['row-d9fm-x2b5_hq6h', '00000000-0000-0000-6D79-C61D44822745', 0, 1425759032, None, 1425759032, None, '{ }', '10X225', 'Theatre Arts Production Company School ', '53', '382', '375', '363'], ['row-eewb~72dn~srcq', '00000000-0000-0000-43F5-CF5B96B32519', 0, 1425759032, None, 1425759032, None, '{ }', '10X237', 'Marie Curie HS for Nur, Med and Allied Health Prof ', '48', '373', '358', '366'], ['row-sh3p-896i.xp9h', '00000000-0000-0000-ABFE-45A4A40F1DBF', 0, 1425759032, None, 1425759032, None, '{ }', '10X243', 'WEST BRONX ACADEMY FOR FUTURE ', '32', '365', '382', '375'], ['row-4ibq~uak7.5vfs', '00000000-0000-0000-3E30-0184B1C43D8F', 0, 1425759032, None, 1425759032, None, '{ }', '10X268', 'Kingsbridge International High School ', '40', '313', '316', '296'], ['row-x8c7~4ekr-guft', '00000000-0000-0000-992E-FCF1D5A23543', 0, 1425759032, None, 1425759032, None, '{ }', '10X284', 'BRONX SCHOOL OF LAW & FINANCE ', '54', '404', '397', '383'], ['row-t7dc.udnk_br9h', '00000000-0000-0000-C063-4E9A10EA10F1', 0, 1425759032, None, 1425759032, None, '{ }', '10X319', 'Providing Urban Learners Success in Education HS ', '10', '349', '346', '364'], ['row-xumx.bpf3~z5aa', '00000000-0000-0000-1249-938A639E47FC', 0, 1425759032, None, 1425759032, None, '{ }', '10X342', 'International School of Liberal Arts ', '46', '333', '336', '285'], ['row-bv2b~tbn8_cr89', '00000000-0000-0000-2EC0-CDB1A66D58B2', 0, 1425759032, None, 1425759032, None, '{ }', '10X368', 'Information Technology Academy ', '56', '418', '411', '398'], ['row-wy5d-wj5a_yk7a', '00000000-0000-0000-117B-A206B21A19AC', 0, 1425759032, None, 1425759032, None, '{ }', '10X374', 'Knowledge & Power Prep Acad International HS ', None, None, None, None], ['row-ivv5-pr8u~njim', '00000000-0000-0000-0EDF-588EE1C5686F', 0, 1425759032, None, 1425759032, None, '{ }', '10X430', 'WALTON HIGH SCHOOL ', None, None, None, None], ['row-392b_tabu.2xan', '00000000-0000-0000-310C-0F1F3AD44E1B', 0, 1425759032, None, 1425759032, None, '{ }', '10X430', 'YABC AT WALTON HIGH SCHOOL ', None, None, None, None], ['row-znij~jzzb.7c6f', '00000000-0000-0000-69DB-5218361257FF', 0, 1425759032, None, 1425759032, None, '{ }', '10X433', 'HIGH SCHOOL TEACHING PROFESSNS ', '50', '386', '385', '381'], ['row-k266~uffq.kfpt', '00000000-0000-0000-C736-88CACA8B2D9E', 0, 1425759032, None, 1425759032, None, '{ }', '10X434', 'Belmont Preparatory High School ', '65', '358', '370', '346'], ['row-bz3r-imim-x2hr', '00000000-0000-0000-BEDA-101CE297EC2E', 0, 1425759032, None, 1425759032, None, '{ }', '10X437', 'Fordham High School for the Arts ', '42', '377', '375', '375'], ['row-2vaf.ge6p~y46i', '00000000-0000-0000-5AEE-939047AB611A', 0, 1425759032, None, 1425759032, None, '{ }', '10X438', 'Fordham Leadership Academy for Business Technolog ', '71', '375', '385', '373'], ['row-rsp7-3cq3~826w', '00000000-0000-0000-FC9C-15BC9A69DA74', 0, 1425759032, None, 1425759032, None, '{ }', '10X439', 'Bronx High School of Law and Community Service ', '57', '389', '400', '382'], ['row-xfsm.dait_is4s', '00000000-0000-0000-A626-D4C4DB263CD1', 0, 1425759032, None, 1425759032, None, '{ }', '10X440', 'DeWitt Clinton High School ', '438', '425', '440', '417'], ['row-9f9t_q6ce.ermu', '00000000-0000-0000-50A5-8B660F04144E', 0, 1425759032, None, 1425759032, None, '{ }', '10X442', 'BRONX HIGH SCHOOL OF MUSIC ', '38', '421', '432', '439'], ['row-2k3d.fsck.tu38', '00000000-0000-0000-06FC-76D019F9ABDC', 0, 1425759032, None, 1425759032, None, '{ }', '10X445', 'BRONX HIGH SCHOOL OF SCIENCE ', '683', '632', '685', '643'], ['row-enig~zigk_62y7', '00000000-0000-0000-27E1-90CA4BEB81B6', 0, 1425759032, None, 1425759032, None, '{ }', '10X475', 'JOHN F KENNEDY HIGH SCHOOL ', '87', '364', '375', '358'], ['row-mr29.vb6v~bnfa', '00000000-0000-0000-4D61-9C78A601E2EC', 0, 1425759032, None, 1425759032, None, '{ }', '10X477', 'MARBLE HILL SCH INTL STUDIES ', '70', '406', '429', '403'], ['row-2tch_6mme.kz6a', '00000000-0000-0000-86C2-3ED66B2CB97B', 0, 1425759032, None, 1425759032, None, '{ }', '10X478', 'YABC AT JOHN F. KENNEDY HIGH SCHOOL ', '12', '389', '383', '364'], ['row-ac8f_qypq.xmzc', '00000000-0000-0000-67B2-30999607F9E3', 0, 1425759032, None, 1425759032, None, '{ }', '10X546', 'BRONX THEATER HIGH SCHOOL ', '50', '406', '389', '388'], ['row-xrh6-nthw~sfmc', '00000000-0000-0000-9A82-50E295383C07', 0, 1425759032, None, 1425759032, None, '{ }', '10X549', 'DISCOVERY HIGH SCHOOL ', '31', '340', '340', '351'], ['row-jbsp~xwqu-p4ru', '00000000-0000-0000-5D99-3D681497B80F', 0, 1425759032, None, 1425759032, None, '{ }', '10X660', 'Grace Dodge Vocational High School ', '93', '380', '385', '369'], ['row-aq3j.d4r3.wagq', '00000000-0000-0000-E0BB-D74C490E155A', 0, 1425759032, None, 1425759032, None, '{ }', '10X667', 'YABC AT GRACE DODGE HIGH SCHOOL ', '13', '367', '378', '358'], ['row-m7h8.uy6x_k7y5', '00000000-0000-0000-3404-63D12F337B27', 0, 1425759032, None, 1425759032, None, '{ }', '10X696', 'HS of American Studies at Lehman College ', '74', '635', '630', '619'], ['row-v2tm_2g2q.qi8f', '00000000-0000-0000-8677-60D77D5E5293', 0, 1425759032, None, 1425759032, None, '{ }', '11X249', 'Bronx Health School High School 11x249 ', '52', '363', '366', '364'], ['row-778g-qrxz~e94h', '00000000-0000-0000-8718-72365A1495C9', 0, 1425759032, None, 1425759032, None, '{ }', '11X253', 'High School For Writing & Communication Arts ', '57', '393', '363', '387'], ['row-yp36.jngd~4dp9', '00000000-0000-0000-1590-FC633519270B', 0, 1425759032, None, 1425759032, None, '{ }', '11X265', 'BRONX LAB SCHOOL ', '70', '356', '370', '355'], ['row-5mzp_4czp-8neg', '00000000-0000-0000-DA1F-F74284313F82', 0, 1425759032, None, 1425759032, None, '{ }', '11X270', 'Academy for Scholarship and Entrepreneurship ', '37', '373', '376', '362'], ['row-gs5x~8f57.jnse', '00000000-0000-0000-C037-50FCE9ACF734', 0, 1425759032, None, 1425759032, None, '{ }', '11X275', 'High School of Computers and Technology ', '56', '399', '402', '373'], ['row-2wje_3tgn_5bid', '00000000-0000-0000-1487-87E0AD09FACF', 0, 1425759032, None, 1425759032, None, '{ }', '11X288', 'Columbus Institute for Math and Science ', '90', '432', '464', '424'], ['row-45u7-3ehz-atak', '00000000-0000-0000-AC37-41B0EB1D2734', 0, 1425759032, None, 1425759032, None, '{ }', '11X290', 'BRONX ACAD OF HEALTH CAREERS ', '46', '369', '363', '380'], ['row-5xch-hvrg_ag8t', '00000000-0000-0000-9D9D-2AEC98110ABD', 0, 1425759032, None, 1425759032, None, '{ }', '11X299', 'ASTOR COLLEGIATE ACADEMY ', '38', '404', '400', '388'], ['row-j49v~xzyb.fqr5', '00000000-0000-0000-25C4-378D588E3D24', 0, 1425759032, None, 1425759032, None, '{ }', '11X415', 'Christopher Columbus High School ', '114', '354', '373', '350'], ['row-jgbs~amsu-sqpg', '00000000-0000-0000-FFF5-42962335836A', 0, 1425759032, None, 1425759032, None, '{ }', '11X418', 'Bronx High School for the Visual Arts ', '54', '419', '403', '392'], ['row-vuv7-5vrj~qtmj', '00000000-0000-0000-AC0D-5F46D32A8148', 0, 1425759032, None, 1425759032, None, '{ }', '11X425', 'EVANDER CHILDS HIGH SCHOOL ', '7', '344', '306', '350'], ['row-yewz_kwpw.d5fe', '00000000-0000-0000-84F9-E94920297254', 0, 1425759032, None, 1425759032, None, '{ }', '11X455', 'HARRY S TRUMAN HIGH SCHOOL ', '201', '380', '384', '379'], ['row-5hqa~4dyh-k3kj', '00000000-0000-0000-AE3B-F83A5F2E599C', 0, 1425759032, None, 1425759032, None, '{ }', '11X456', 'YABC AT HARRY S. TRUMAN HIGH SCHOOL ', None, None, None, None], ['row-d367.egyu_gni3', '00000000-0000-0000-749E-47BD0F81748C', 0, 1425759032, None, 1425759032, None, '{ }', '11X513', 'NEW WORLD HIGH SCHOOL ', '43', '331', '384', '341'], ['row-va2t~jvn4.eft5', '00000000-0000-0000-8EA0-3154DCFC0C12', 0, 1425759032, None, 1425759032, None, '{ }', '11X514', 'Bronxwood Peparatory Academy ', '21', '359', '389', '350'], ['row-t4y8.ws94.tpze', '00000000-0000-0000-CBFA-EBA5AD030294', 0, 1425759032, None, 1425759032, None, '{ }', '11X541', 'GLOBAL ENTERPRISE HIGH SCHOOL ', '43', '372', '359', '373'], ['row-qt7i~5yw5-tks8', '00000000-0000-0000-2A3C-C12D5541BD61', 0, 1425759032, None, 1425759032, None, '{ }', '11X542', 'PELHAM PREPARATORY ACADEMY ', '92', '427', '416', '424'], ['row-bpvp-cds6.tqeu', '00000000-0000-0000-656D-AB27A8836B11', 0, 1425759032, None, 1425759032, None, '{ }', '11X544', 'High School for the Contemporary Arts ', '40', '359', '340', '338'], ['row-fjhg.37q6~hrn6', '00000000-0000-0000-07C3-7A659DFC4DFB', 0, 1425759032, None, 1425759032, None, '{ }', '11X545', 'BRONX AEROSPACE HIGH SCHOOL ', '47', '393', '395', '389'], ['row-m2uq~aauz.6g9e', '00000000-0000-0000-623A-E679B5EBF8B6', 0, 1425759032, None, 1425759032, None, '{ }', '12X245', 'NEW DAY ACADEMY ', '24', '368', '349', '358'], ['row-kkhk~znnu-9cwc', '00000000-0000-0000-AECC-ECC74DA77EBE', 0, 1425759032, None, 1425759032, None, '{ }', '12X248', 'METROPOLITAN HIGH SCHOOL ', '42', '340', '361', '335'], ['row-c642-mn37-puep', '00000000-0000-0000-3DF3-3E18A83C6EF9', 0, 1425759032, None, 1425759032, None, '{ }', '12X251', 'EXPLORATIONS ACADEMY ', '34', '364', '364', '344'], ['row-j89k.natp_3rpu', '00000000-0000-0000-41C3-A534D061992B', 0, 1425759032, None, 1425759032, None, '{ }', '12X262', 'Bronx High School Performance & Stage ', '41', '383', '360', '387'], ['row-76ug-ghj4.tkr4', '00000000-0000-0000-9E73-B6F675980DB2', 0, 1425759032, None, 1425759032, None, '{ }', '12X267', 'Bronx Latin School ', None, None, None, None], ['row-8ec3~a2pn~eesx', '00000000-0000-0000-77C1-4B3AD6C4A1A6', 0, 1425759032, None, 1425759032, None, '{ }', '12X271', 'EAST BRONX ACADEMY FOR THE FUTURE ', '22', '415', '390', '397'], ['row-7im9.cdq5_gmxd', '00000000-0000-0000-D794-94E336B5A7AE', 0, 1425759032, None, 1425759032, None, '{ }', '12X278', 'PEACE & DIVERSITY ACAD HIGH SCHOOL ', '24', '408', '400', '401'], ['row-sw5g_k8ee~bcjb', '00000000-0000-0000-06FA-C512355E1996', 0, 1425759032, None, 1425759032, None, '{ }', '12X400', 'Morris High School ', '9', '369', '374', '360'], ['row-72fs.s6d7.p2m6', '00000000-0000-0000-8577-4E49A21A5D01', 0, 1425759032, None, 1425759032, None, '{ }', '12X428', 'YABC at Monroe Academy ', '11', '386', '345', '388'], ['row-tv6b.szra~9d7y', '00000000-0000-0000-A926-85804645DDF7', 0, 1425759032, None, 1425759032, None, '{ }', '12X446', 'Schomburg Satellite Academy ', '14', '354', '366', '364'], ['row-kwby~7hjr_fbpb', '00000000-0000-0000-3EFC-02DA639A73D7', 0, 1425759032, None, 1425759032, None, '{ }', '12X480', 'BRONX REGIONAL HIGH SCHOOL ', '12', '359', '366', '359'], ['row-yng6.ucpi_6wtm', '00000000-0000-0000-9D47-272CEAFF0956', 0, 1425759032, None, 1425759032, None, '{ }', '12X550', 'HIGH SCHOOL OF WORLD CULTURES ', '50', '291', '333', '291'], ['row-y45y.56eq_hq5i', '00000000-0000-0000-A954-B26119602430', 0, 1425759032, None, 1425759032, None, '{ }', '12X680', 'Bronx Coalition Community High School ', '31', '372', '366', '360'], ['row-qatr.6bza-z4wz', '00000000-0000-0000-62EA-0458BC523CB5', 0, 1425759032, None, 1425759032, None, '{ }', '12X682', 'Fannie Lou Hamer Freedom High School ', '75', '333', '326', '330'], ['row-bxrp.hmt5_mbtm', '00000000-0000-0000-3D4F-3706D3B074B9', 0, 1425759032, None, 1425759032, None, '{ }', '12X684', 'WINGS ACADEMY ', '58', '386', '397', '383'], ['row-a2v7.9yey_acae', '00000000-0000-0000-2E2F-88513BB18D48', 0, 1425759032, None, 1425759032, None, '{ }', '12X690', 'MONROE CAMPUS ', '47', '355', '369', '366'], ['row-fqeb-myym_nvqf', '00000000-0000-0000-B5B9-250715F5C856', 0, 1425759032, None, 1425759032, None, '{ }', '12X692', 'MONROE ACAD VISUAL ARTS DESGN ', '70', '346', '341', '356'], ['row-qzs4_bsiy_m94i', '00000000-0000-0000-9FA8-7028E91CC803', 0, 1425759032, None, 1425759032, None, '{ }', '13K265', 'Dr Susan S McKinney Secondary School of the Arts ', '46', '387', '369', '369'], ['row-gy7k-d6cp~zrj6', '00000000-0000-0000-CB31-18D21CF9F4A6', 0, 1425759032, None, 1425759032, None, '{ }', '13K336', 'Urban Assembly Academy of Business & Community D ', None, None, None, None], ['row-hgk2~9hyi_763h', '00000000-0000-0000-4B37-5A717C612B3D', 0, 1425759032, None, 1425759032, None, '{ }', '13K350', 'Urban Assembly School of Music and Art ', '59', '394', '371', '371'], ['row-fwbn~ywgz~u9w9', '00000000-0000-0000-849C-904BEC605E0A', 0, 1425759032, None, 1425759032, None, '{ }', '13K412', 'BROOKLYN COMMUNITY HIGH SCHOOL ', '43', '393', '356', '377'], ['row-kkz6-a629~zaxf', '00000000-0000-0000-76AA-878CF728ECE6', 0, 1425759032, None, 1425759032, None, '{ }', '13K419', 'Science Skills Center High School ', '104', '419', '421', '409'], ['row-ekrc-jx98.7z6y', '00000000-0000-0000-4C08-79E3AB5D462F', 0, 1425759032, None, 1425759032, None, '{ }', '13K430', 'BROOKLYN TECHNICAL HIGH SCHOOL ', '1047', '588', '652', '581'], ['row-iqsh.pyn5-8spn', '00000000-0000-0000-4326-1597E2E81FA0', 0, 1425759032, None, 1425759032, None, '{ }', '13K483', 'Urban Assembly School of Law and Justice ', '104', '414', '415', '412'], ['row-smak~tk8a_xmjb', '00000000-0000-0000-3C82-6EDBA85DD222', 0, 1425759032, None, 1425759032, None, '{ }', '13K499', 'Acorn Association of Community Organization Return ', '103', '367', '361', '360'], ['row-sxrk_kr7h-52eh', '00000000-0000-0000-4108-42C3E7F60CE2', 0, 1425759032, None, 1425759032, None, '{ }', '13K509', 'FREEDOM ACADEMY ', '40', '416', '386', '408'], ['row-djz8.u6ya~idzy', '00000000-0000-0000-289E-A1C254C1C9F9', 0, 1425759032, None, 1425759032, None, '{ }', '13K553', 'BROOKLYN ACADEMY HIGH SCHOOL ', '19', '403', '384', '377'], ['row-mzii_5uqf~bypp', '00000000-0000-0000-3C6D-7957743348C9', 0, 1425759032, None, 1425759032, None, '{ }', '13K575', 'Bedford Stuyvesant Street Academy High School ', '20', '366', '380', '362'], ['row-kqqt~4wiy~94su', '00000000-0000-0000-DB16-B4D95620F2CF', 0, 1425759032, None, 1425759032, None, '{ }', '13K595', 'BEDFORD ACADEMY HIGH SCHOOL ', '50', '453', '469', '441'], ['row-742b~fs6s.22kj', '00000000-0000-0000-435F-1FCB7F5ADF1C', 0, 1425759032, None, 1425759032, None, '{ }', '13K605', 'George Westinghouse Vocational Technical HS ', '87', '390', '360', '373'], ['row-gwap.8f49_5f9m', '00000000-0000-0000-E803-D2B9F296FD03', 0, 1425759032, None, 1425759032, None, '{ }', '13K616', 'Brooklyn High Sch for Leadership Community Svc ', '9', '323', '281', '310'], ['row-9n9r.guuk~g2mt', '00000000-0000-0000-7EED-EC40067CEBC4', 0, 1425759032, None, 1425759032, None, '{ }', '13K670', 'BENJAMIN BANNEKER ACADEMY ', '168', '476', '477', '445'], ['row-bhmw_24mx.4k4q', '00000000-0000-0000-9559-456BFAF54972', 0, 1425759032, None, 1425759032, None, '{ }', '14K071', 'JHS 071 JUAN MOREL CAMPOS ', '59', '362', '369', '349'], ['row-ev6z.yz24.amfg', '00000000-0000-0000-7CFD-B81302A36B66', 0, 1425759032, None, 1425759032, None, '{ }', '14K322', 'FOUNDATIONS ACADEMY ', '28', '373', '377', '359'], ['row-dfzp-yfuc~a8ua', '00000000-0000-0000-C3FB-1C7CDFE02E70', 0, 1425759032, None, 1425759032, None, '{ }', '14K404', 'ACADEMY FOR YOUNG WRITERS ', '70', '377', '366', '365'], ['row-sjaf-4j9w.5ws6', '00000000-0000-0000-E94E-4A9AC05265D7', 0, 1425759032, None, 1425759032, None, '{ }', '14K449', 'BROOKLYN LATIN SCHOOL ', '50', '536', '534', '527'], ['row-sdh2_5anq_kgsi', '00000000-0000-0000-4270-2A0DFD4D6F5B', 0, 1425759032, None, 1425759032, None, '{ }', '14K454', 'GREEN SCHOOL: AN ACADEMY FOR ENVIRONMEN ', '52', '381', '381', '366'], ['row-d3nm-dkje.wkwe', '00000000-0000-0000-F1F6-04F792993ED6', 0, 1425759032, None, 1425759032, None, '{ }', '14K474', 'Progress High School For Professional Careers ', '102', '365', '375', '373'], ['row-2eg9.v5b6_eqb6', '00000000-0000-0000-DB0C-5BB6D3E63E3B', 0, 1425759032, None, 1425759032, None, '{ }', '14K477', 'School for Legal Studies ', '82', '385', '390', '384'], ['row-cm43-wm7b_p4g2', '00000000-0000-0000-4B3E-6A98D5E72918', 0, 1425759032, None, 1425759032, None, '{ }', '14K478', 'Enterprise, Business and Technology High School ', '80', '360', '390', '354'], ['row-kxm4_hrhx_jfxw', '00000000-0000-0000-5838-3B6635EFB6F9', 0, 1425759032, None, 1425759032, None, '{ }', '14K488', 'BROOKLYN PREP HIGH SCHOOL ', '44', '397', '377', '387'], ['row-qp7y-xc8d_3qyd', '00000000-0000-0000-4DEB-67056A15E0AA', 0, 1425759032, None, 1425759032, None, '{ }', '14K558', 'Williamsburg High School for Architecture & Design ', '44', '399', '393', '367'], ['row-6ei4~xgc6-2ksc', '00000000-0000-0000-B841-3D49B9E51A54', 0, 1425759032, None, 1425759032, None, '{ }', '14K561', 'WILLIAMSBURG PREP ', '58', '375', '386', '369'], ['row-bq2v~mbmi.qxuz', '00000000-0000-0000-4F54-995C2C4608D7', 0, 1425759032, None, 1425759032, None, '{ }', '14K586', 'LYONS COMMUNITY SCHOOL ', None, None, None, None], ['row-jp8s~zseq.9853', '00000000-0000-0000-D512-A63FDD8E9AE4', 0, 1425759032, None, 1425759032, None, '{ }', '14K610', 'AUTOMOTIVE HIGH SCHOOL ', '73', '353', '359', '340'], ['row-v8d4-wvn4.ntyy', '00000000-0000-0000-96F6-F77955D9CAD6', 0, 1425759032, None, 1425759032, None, '{ }', '14K632', 'The Frances Perkins Academy ', None, None, None, None], ['row-wwtw.66d2~ysu2', '00000000-0000-0000-9CE7-0DC759FC565D', 0, 1425759032, None, 1425759032, None, '{ }', '14K640', 'HARRY VAN ARSDALE HIGH SCHOOL ', None, None, None, None], ['row-4gwq~ryja-d2rk', '00000000-0000-0000-5044-2B75684088AE', 0, 1425759032, None, 1425759032, None, '{ }', '14K685', 'El Puente Academy for Peace and Justice ', '16', '375', '386', '394'], ['row-msd7~mpvd.8f63', '00000000-0000-0000-30BE-6369443FE1CD', 0, 1425759032, None, 1425759032, None, '{ }', '14K923', 'YABC at Automative High School ', None, None, None, None], ['row-ernz_izgb.834q', '00000000-0000-0000-892A-A0C77F1E8B62', 0, 1425759032, None, 1425759032, None, '{ }', '15K429', 'BROOKLYN SCHOOL GLOBAL STUDIES ', '50', '374', '365', '374'], ['row-7pyj.f3ae-tt8n', '00000000-0000-0000-DE9A-2D18E0DD9092', 0, 1425759032, None, 1425759032, None, '{ }', '15K448', 'Brooklyn Secondary Sch for Collaborative Studies ', '63', '385', '380', '375'], ['row-ji7t_tywx.6r2j', '00000000-0000-0000-166B-8E3E8E78D160', 0, 1425759032, None, 1425759032, None, '{ }', '15K462', 'Secondary School for Law, Journalism and Research ', '50', '406', '409', '393'], ['row-zhc2~eixi_dzun', '00000000-0000-0000-07CA-6EFD166AC04E', 0, 1425759032, None, 1425759032, None, '{ }', '15K463', 'SECONDARY SCHOOL JOURNALISM ', '75', '393', '372', '370'], ['row-bk6s_9hf4_36ti', '00000000-0000-0000-F9A9-F8C043F5581C', 0, 1425759032, None, 1425759032, None, '{ }', '15K464', 'SECONDARY SCHOOL FOR RESEARCH ', '65', '373', '395', '368'], ['row-4jee_ukwp.fgaq', '00000000-0000-0000-59AC-7DA2668C9FCB', 0, 1425759032, None, 1425759032, None, '{ }', '15K497', 'SCHOOL INTERNATIONAL STUDIES ', '45', '402', '414', '382'], ['row-xset.tc6v_55ii', '00000000-0000-0000-B8ED-C72CCCD53EA3', 0, 1425759032, None, 1425759032, None, '{ }', '15K519', 'COBBE HILL SCHOOL AMERICAN STD ', '44', '365', '358', '360'], ['row-zqms.j6va.wxak', '00000000-0000-0000-9FF9-BCDAB415BA03', 0, 1425759032, None, 1425759032, None, '{ }', '15K520', 'PACIFIC HIGH SCHOOL ', '9', '356', '352', '343'], ['row-498n_n9ek.s389', '00000000-0000-0000-B114-CA14DFA6EF50', 0, 1425759032, None, 1425759032, None, '{ }', '15K529', 'WEST BROOKLYN COMMUNITY HIGH SCHOOL ', '11', '363', '382', '381'], ['row-z57g~9p7a-hd6t', '00000000-0000-0000-3F1A-9A07742EDE8B', 0, 1425759032, None, 1425759032, None, '{ }', '15K530', 'METROPOLITAN CORPORATE ACADEMY ', '17', '370', '348', '348'], ['row-3ia5~y9yh-c88d', '00000000-0000-0000-7560-3C260BCA138F', 0, 1425759032, None, 1425759032, None, '{ }', '15K656', 'Brooklyn High School of the Arts ', '71', '416', '417', '425'], ['row-vf36~indt_z9az', '00000000-0000-0000-BC39-3AEF7F9FDD7F', 0, 1425759032, None, 1425759032, None, '{ }', '15K698', 'South Brooklyn Community High School ', '17', '387', '371', '368'], ['row-ue8k-ez56_3gpe', '00000000-0000-0000-917D-1A9F34B43067', 0, 1425759032, None, 1425759032, None, '{ }', '16K393', 'Frederick Douglass Academy IV Seconday School ', '29', '429', '421', '424'], ['row-qq6r_5ret-kdbh', '00000000-0000-0000-1955-0D7DB5B7CEFA', 0, 1425759032, None, 1425759032, None, '{ }', '16K455', 'BOYS AND GIRLS HIGH SCHOOL ', '143', '369', '367', '366'], ['row-yvgq.b9qs-sc9b', '00000000-0000-0000-E3EE-0E322B655E5A', 0, 1425759032, None, 1425759032, None, '{ }', '16K498', 'Acorn High School for Social Justice ', '34', '367', '364', '364'], ['row-kf3b_qcdn-ehk2', '00000000-0000-0000-D711-26E604C60A67', 0, 1425759032, None, 1425759032, None, '{ }', '16K594', 'Gotham Professional Arts Academy ', None, None, None, None], ['row-v2u9-4fk2-4m2v', '00000000-0000-0000-4C1A-9B826DB10D82', 0, 1425759032, None, 1425759032, None, '{ }', '17K382', 'ACADEMY FOR COLLEGE PREPARATION CAREER ', '50', '401', '412', '404'], ['row-4cfk~y9kw~ikzh', '00000000-0000-0000-5E94-A7419CA888F1', 0, 1425759032, None, 1425759032, None, '{ }', '17K408', 'ACADEMY OF HOSPITALITY AND TOURISM ', '31', '400', '405', '399'], ['row-a6fg.kprf-buk9', '00000000-0000-0000-5889-C2238B1A6B31', 0, 1425759032, None, 1425759032, None, '{ }', '17K440', 'Prospect Heights High School ', '12', '388', '373', '374'], ['row-7gus_eu9u.phgt', '00000000-0000-0000-63CD-F0375F03331F', 0, 1425759032, None, 1425759032, None, '{ }', '17K467', 'YABC AT ERASMUS CAMPUS ', None, None, None, None], ['row-4v6b~ruee~ncek', '00000000-0000-0000-A933-C04857ABB4F8', 0, 1425759032, None, 1425759032, None, '{ }', '17K469', 'Campus School of the Humanities at Erasmus Hall ', None, None, None, None], ['row-uhgv_vsba_iqij', '00000000-0000-0000-078F-FE18FAA3D556', 0, 1425759032, None, 1425759032, None, '{ }', '17K470', 'George Wood Wingate High School ', None, None, None, None], ['row-svaq~w4xw_6uqa', '00000000-0000-0000-E83B-411966D80E9E', 0, 1425759032, None, 1425759032, None, '{ }', '17K489', 'W E B DUBOIS HIGH SCHOOL ', '17', '381', '344', '360'], ['row-yff6.2zx3-sj8p', '00000000-0000-0000-F863-30E496ABECC3', 0, 1425759032, None, 1425759032, None, '{ }', '17K524', 'International High School @Prospect Hgt ', '32', '302', '339', '325'], ['row-efgv~bpun.jsey', '00000000-0000-0000-300E-5BB4489919C2', 0, 1425759032, None, 1425759032, None, '{ }', '17K528', 'HIGH SCHOOL FOR GLOBAL CITIZENSHIP ', '81', '382', '387', '381'], ['row-rsxg-mv3v~qkkm', '00000000-0000-0000-0CD9-47122B56FD0D', 0, 1425759032, None, 1425759032, None, '{ }', '17K531', 'SCHOOL FOR HUMAN RIGHTS ', '21', '357', '391', '343'], ['row-r4wq-4zh6-3ign', '00000000-0000-0000-3417-4B7B8EE5884C', 0, 1425759032, None, 1425759032, None, '{ }', '17K533', 'SCHOOL FOR DEMOCRACY AND LEADERSHIP ', '25', '358', '378', '372'], ['row-hcrx-yxs5.eptc', '00000000-0000-0000-2CD0-79A6888C6184', 0, 1425759032, None, 1425759032, None, '{ }', '17K537', 'HS FOR YOUTH CMMTY DEVLPMT AT ERASMUS ', '71', '361', '376', '365'], ['row-wtka-uws8~xdv8', '00000000-0000-0000-94A2-3F050536D8D1', 0, 1425759032, None, 1425759032, None, '{ }', '17K539', 'HS FOR SERVICE AND LEARNING AT ERASMUS ', '54', '371', '366', '381'], ['row-f9v4-drw4_98b6', '00000000-0000-0000-0F73-209EFDA84652', 0, 1425759032, None, 1425759032, None, '{ }', '17K543', 'SCIENCE TECH RESEARCH HS AT ERASMUS ', '68', '445', '425', '415'], ['row-8qss.3aie.sipm', '00000000-0000-0000-492B-FCA5A416B98B', 0, 1425759032, None, 1425759032, None, '{ }', '17K544', 'INTERNATIONAL ARTS BUSINESS HS ', '49', '392', '390', '381'], ['row-evza_j39i_8eqg', '00000000-0000-0000-9227-569046EAC573', 0, 1425759032, None, 1425759032, None, '{ }', '17K546', 'HIGH SCHOOL FOR PUBLIC SERVICE ', '83', '412', '427', '420'], ['row-edxz-np8d.b592', '00000000-0000-0000-0C32-48872623C8D5', 0, 1425759032, None, 1425759032, None, '{ }', '17K547', 'Brooklyn High School for Science and the Environ ', '45', '391', '396', '388'], ['row-sjbe_gy89.9ikj', '00000000-0000-0000-AA97-9B2F97B0B530', 0, 1425759032, None, 1425759032, None, '{ }', '17K548', 'BROOKLYN HS MUSIC AND THEATER ', '37', '385', '351', '381'], ['row-ziqy~bvmx_6wsu', '00000000-0000-0000-15A7-0043B4911239', 0, 1425759032, None, 1425759032, None, '{ }', '17K568', 'BROWNSVILLE ACADEMY HIGH SCHOOL ', '20', '356', '358', '366'], ['row-tvhm_dwjg~i59b', '00000000-0000-0000-412D-2B372BCD265A', 0, 1425759032, None, 1425759032, None, '{ }', '17K590', 'Medgar Evers College Preparatory High School ', '113', '459', '482', '452'], ['row-77yf.nnh4_d6is', '00000000-0000-0000-48E1-A299BF803A10', 0, 1425759032, None, 1425759032, None, '{ }', '17K600', 'Clara Barton High School ', '282', '419', '413', '411'], ['row-mp8q.u76m.3azn', '00000000-0000-0000-8DB7-AD598B48E850', 0, 1425759032, None, 1425759032, None, '{ }', '17K625', 'Paul Robeson High School ', '121', '355', '358', '348'], ['row-eqsw_uc7i.vmja', '00000000-0000-0000-5784-86AE63578AFA', 0, 1425759032, None, 1425759032, None, '{ }', '18K415', 'SAMUEL J TILDEN HIGH SCHOOL ', '42', '328', '341', '338'], ['row-w2b5_ep26.enk2', '00000000-0000-0000-87F8-B469DFBA392F', 0, 1425759032, None, 1425759032, None, '{ }', '18K500', 'CANARSIE HIGH SCHOOL ', '128', '372', '373', '364'], ['row-7kh6.7y26_tm78', '00000000-0000-0000-EA6F-CFBCCD83B2EF', 0, 1425759032, None, 1425759032, None, '{ }', '18K501', 'YABC AT CANARSIE HIGH SCHOOL ', None, None, None, None], ['row-v28y.znk7.th5x', '00000000-0000-0000-6CEB-B620007AE074', 0, 1425759032, None, 1425759032, None, '{ }', '18K515', 'SOUTH SHORE HIGH SCHOOL ', '29', '365', '352', '336'], ['row-usdv-pv9r.c4r2', '00000000-0000-0000-9A96-72B9A4E3809D', 0, 1425759032, None, 1425759032, None, '{ }', '18K563', 'IT TAKES A VILLAGE ACADEMY ', None, None, None, None], ['row-bjzi_n57m_uitp', '00000000-0000-0000-53C9-E0A338E33F74', 0, 1425759032, None, 1425759032, None, '{ }', '25Q540', 'QUEENS ACADEMY ', '22', '400', '395', '391'], ['row-pka8~kze7.pn2j', '00000000-0000-0000-32C6-041FB77CE876', 0, 1425759032, None, 1425759032, None, '{ }', '18K566', 'BROOKLYN GENERATION SCHOOL ', None, None, None, None], ['row-5hnh.4ymf-ivzp', '00000000-0000-0000-6344-2DAB7B786533', 0, 1425759032, None, 1425759032, None, '{ }', '18K567', 'BROOKLYN THEATRE ARTS HIGH SCHOOL ', None, None, None, None], ['row-yuwb-x5h3~iy9h', '00000000-0000-0000-C57A-21CF7919C5F0', 0, 1425759032, None, 1425759032, None, '{ }', '18K569', 'Kurt Hahn Expeditionary Learning School ', None, None, None, None], ['row-mjmi_q7ha~j4t2', '00000000-0000-0000-EDFE-A95759525B3F', 0, 1425759032, None, 1425759032, None, '{ }', '18K576', 'VICTORY COLLEGIATE HIGH SCHOOL ', None, None, None, None], ['row-efi7~mhr9~7bnr', '00000000-0000-0000-A8E2-1EEBC37FB740', 0, 1425759032, None, 1425759032, None, '{ }', '18K578', 'BROOKLYN BRIDGE ACADEMY OF S SHORE ED CO ', '20', '389', '358', '369'], ['row-w58g~3ryv.smme', '00000000-0000-0000-FEFE-2C6998314449', 0, 1425759032, None, 1425759032, None, '{ }', '18K589', 'ARTS & MEDIA PREPARATORY ACADEMY ', None, None, None, None], ['row-ep46.gdci-3e84', '00000000-0000-0000-63EE-21906960B872', 0, 1425759032, None, 1425759032, None, '{ }', '18K617', 'High School for Innovation in Advertising and Media ', None, None, None, None], ['row-bizj~2a9f_2f85', '00000000-0000-0000-3236-C59A9C37A208', 0, 1425759032, None, 1425759032, None, '{ }', '18K629', 'Cultural Academy for the Arts and Sciences ', None, None, None, None], ['row-sucb~6i8y-36z3', '00000000-0000-0000-9DEB-89CF5DFA4CDE', 0, 1425759032, None, 1425759032, None, '{ }', '18K633', 'High School for Medical Professions ', None, None, None, None], ['row-k5se_itpf~mn8e', '00000000-0000-0000-28BF-81D89BC3D4BC', 0, 1425759032, None, 1425759032, None, '{ }', '18K635', 'OLYMPUS ACADEMY ', '24', '361', '365', '365'], ['row-twec_5f4s.bdre', '00000000-0000-0000-D1AF-70961A044805', 0, 1425759032, None, 1425759032, None, '{ }', '18K642', 'Urban Action Academy ', None, None, None, None], ['row-kbtr~6riu~p8vd', '00000000-0000-0000-E970-8162AE374389', 0, 1425759032, None, 1425759032, None, '{ }', '18K673', 'East Brooklyn Community High School ', None, None, None, None], ['row-hfas_uwni~9n6j', '00000000-0000-0000-B1A0-B50DA9402E38', 0, 1425759032, None, 1425759032, None, '{ }', '19K409', 'EAST NEW YORK FAMILY ACADEMY ', '61', '435', '428', '414'], ['row-nadn~itrv_cq2t', '00000000-0000-0000-FDED-B476688378F2', 0, 1425759032, None, 1425759032, None, '{ }', '19K420', 'FRANKLIN K LANE HIGH SCHOOL ', '140', '353', '379', '341'], ['row-xsq3~75d6~prys', '00000000-0000-0000-2973-F9BA90389591', 0, 1425759032, None, 1425759032, None, '{ }', '19K431', 'YOUNG ADULT BOROUGH CTR, THOMAS JEFFERS ', None, None, None, None], ['row-n47x~pgz8_ych3', '00000000-0000-0000-F0DF-9FF8CD61C565', 0, 1425759032, None, 1425759032, None, '{ }', '19K435', 'THOMAS JEFFERSON HIGH SCHOOL ', None, None, None, None], ['row-76dr-ru8e.c2f8', '00000000-0000-0000-5A35-ED1F7DCD0FA7', 0, 1425759032, None, 1425759032, None, '{ }', '19K502', 'FDNY HIGH SCH DOR FIRE & LIFE ', '29', '376', '375', '363'], ['row-b9xg.m634~aeur', '00000000-0000-0000-EF2D-5723D8BB5F30', 0, 1425759032, None, 1425759032, None, '{ }', '19K504', 'HIGH SCHOOL FOR CIVIL RIGHTS ', '23', '369', '372', '380'], ['row-t3z5.gkzz-msj5', '00000000-0000-0000-EBE9-C2FDF56263E6', 0, 1425759032, None, 1425759032, None, '{ }', '19K507', 'PERFORMING ARTS & TECH HIGH SCHOOL ', '49', '371', '363', '356'], ['row-qjdf_sv93.pvyz', '00000000-0000-0000-D0B7-B37518FEC23E', 0, 1425759032, None, 1425759032, None, '{ }', '19K510', 'World Acad for Total Community Health ', '28', '370', '371', '376'], ['row-uhff_u6qn_pe3z', '00000000-0000-0000-6A07-6EFB1074EEE7', 0, 1425759032, None, 1425759032, None, '{ }', '19K583', 'Multicultural High School ', None, None, None, None], ['row-dm7w.j3mj~5zyc', '00000000-0000-0000-0C8D-06457E2B1D2F', 0, 1425759032, None, 1425759032, None, '{ }', '19K615', 'East New York High School of Transit Technology ', '184', '413', '419', '403'], ['row-yga6~e528.v2ha', '00000000-0000-0000-614F-501E930355DA', 0, 1425759032, None, 1425759032, None, '{ }', '19K618', 'Academy of Innovative Technology High School ', None, None, None, None], ['row-aari~g5js-4gqe', '00000000-0000-0000-9E4D-6AC4B8001D1C', 0, 1425759032, None, 1425759032, None, '{ }', '19K639', 'Brooklyn Lab School ', None, None, None, None], ['row-qnp7_yyad.ecfg', '00000000-0000-0000-8A92-8CB7262A329F', 0, 1425759032, None, 1425759032, None, '{ }', '19K659', 'CYPRESS HILLS COLLEGIATE PREPARATORY SCH ', '50', '398', '402', '378'], ['row-j8gy~mg5y_mnxh', '00000000-0000-0000-DED3-FE6F5D922421', 0, 1425759032, None, 1425759032, None, '{ }', '19K660', 'William H Maxwell Voc High School ', '49', '355', '367', '355'], ['row-hkdv-fdup_bye3', '00000000-0000-0000-82D8-D33C3AEC5BC1', 0, 1425759032, None, 1425759032, None, '{ }', '19K683', 'SCHOOL FOR CLASSICS ', None, None, None, None], ['row-uyxp.8dfa-xdag', '00000000-0000-0000-D256-9ABA575F56A3', 0, 1425759032, None, 1425759032, None, '{ }', '20K445', 'NEW UTRECHT HIGH SCHOOL ', '317', '409', '471', '407'], ['row-kt9y~kp8e.fgit', '00000000-0000-0000-C77D-844258D45141', 0, 1425759032, None, 1425759032, None, '{ }', '20K485', 'High School of Telecommunication Arts ', '221', '450', '471', '440'], ['row-3dyy~bceh-2cpz', '00000000-0000-0000-15D5-313CD1B40D80', 0, 1425759032, None, 1425759032, None, '{ }', '20K490', 'FORT HAMILTON HIGH SCHOOL ', '581', '416', '486', '409'], ['row-pkaf_8qwu_bcrx', '00000000-0000-0000-98E6-2EC737EAB5A3', 0, 1425759032, None, 1425759032, None, '{ }', '20K505', 'Franklin D Roosevelt High School ', '385', '387', '492', '377'], ['row-3mj2~esq2.gdei', '00000000-0000-0000-0E40-5FCF30334B18', 0, 1425759032, None, 1425759032, None, '{ }', '20K658', 'YABC at Franklin D. Roosevelt High School ', '33', '363', '443', '369'], ['row-t5te_my3v-7df4', '00000000-0000-0000-A982-1D0627793E09', 0, 1425759032, None, 1425759032, None, '{ }', '21K337', 'International High School at LaFayette ', '35', '355', '395', '355'], ['row-jjen_h2i6_2m4d', '00000000-0000-0000-6DF2-F0861C2DA681', 0, 1425759032, None, 1425759032, None, '{ }', '21K344', 'Rachel Carson High School for Coastal Studies ', '66', '422', '459', '418'], ['row-g5e6.fc5n~wriz', '00000000-0000-0000-7C12-6692F839C40A', 0, 1425759032, None, 1425759032, None, '{ }', '21K348', 'HIGH SCHOOL OF SPORTS MANAGEMENT ', '33', '370', '427', '381'], ['row-y8i4_xa69_mvp3', '00000000-0000-0000-6E52-185FD6217813', 0, 1425759032, None, 1425759032, None, '{ }', '21K400', 'LAFAYETTE HIGH SCHOOL ', '40', '327', '367', '315'], ['row-q8jk_pnng.xjaz', '00000000-0000-0000-BC36-E62061E311B9', 0, 1425759032, None, 1425759032, None, '{ }', '21K410', 'ABRAHAM LINCOLN HIGH SCHOOL ', '379', '386', '429', '385'], ['row-nv7q-x6s7_nbay', '00000000-0000-0000-A9FE-2CF8ED1CA7D4', 0, 1425759032, None, 1425759032, None, '{ }', '21K412/21K411', 'YABC AT ABRAHAM LINCOLN HIGH SCHOOL ', None, None, None, None], ['row-re2c~tgg6.2ia6', '00000000-0000-0000-0125-A64801DCFA63', 0, 1425759032, None, 1425759032, None, '{ }', '21K525', 'EDWARD R MURROW HIGH SCHOOL ', '686', '472', '503', '468'], ['row-sfgm~brny~xgrq', '00000000-0000-0000-0263-2E2E029E91AD', 0, 1425759032, None, 1425759032, None, '{ }', '21K540', 'JOHN DEWEY HIGH SCHOOL ', '349', '414', '465', '396'], ['row-t8iy-92sa~nb25', '00000000-0000-0000-2E09-C57F8A4C473C', 0, 1425759032, None, 1425759032, None, '{ }', '21K559', 'LIFE ACADEMY HIGH SCHOOL FOR FILM AND MUS ', None, None, None, None], ['row-ag3k.x6i8.j9n9', '00000000-0000-0000-1947-897BF5C8C6B0', 0, 1425759032, None, 1425759032, None, '{ }', '21K572', 'Expeditionary Learning Sch for Community Leaders ', None, None, None, None], ['row-mhg3.6krr-an4v', '00000000-0000-0000-AEA4-26A06A71B264', 0, 1425759032, None, 1425759032, None, '{ }', '21K620', 'William E. Grady Vocational Technical High School ', '56', '385', '393', '361'], ['row-axgv~cs3f_frky', '00000000-0000-0000-8292-4F8CBF01F8CE', 0, 1425759032, None, 1425759032, None, '{ }', '21K690', 'BROOKLYN STUDIO SECONDARY SCH ', '86', '426', '419', '418'], ['row-ksra.w65i-686z', '00000000-0000-0000-CE47-7A5274F81D43', 0, 1425759032, None, 1425759032, None, '{ }', '21K728', 'Liberation Diploma Plus High School ', '13', '402', '351', '380'], ['row-jhkn_mebx-v99z', '00000000-0000-0000-38AC-8EC7E0139782', 0, 1425759032, None, 1425759032, None, '{ }', '22K405', 'Midwood High School at Brooklyn College ', '725', '493', '543', '491'], ['row-5xp6_mj39-k75u', '00000000-0000-0000-0FF8-8F3F73F6FD6A', 0, 1425759032, None, 1425759032, None, '{ }', '22K425', 'JAMES MADISON HIGH SCHOOL ', '641', '449', '478', '445'], ['row-qnhz.yaqd-fykw', '00000000-0000-0000-DA04-10A3D3E6E2A0', 0, 1425759032, None, 1425759032, None, '{ }', '22K495', 'SHEEPSHEAD BAY HIGH SCHOOL ', '192', '380', '416', '380'], ['row-ysw9.eswt-fxpc', '00000000-0000-0000-674F-1291B5F09A3A', 0, 1425759032, None, 1425759032, None, '{ }', '22K535', 'LEON M GOLDSTEIN HIGH SCHOOL ', '239', '543', '578', '559'], ['row-n4fg_j28c~bp9p', '00000000-0000-0000-6CB9-091B6C866CE0', 0, 1425759032, None, 1425759032, None, '{ }', '22K555', 'Brooklyn College Academy High School ', '109', '459', '460', '446'], ['row-w28m-v3aj_6m8k', '00000000-0000-0000-7E83-A61B9C34D946', 0, 1425759032, None, 1425759032, None, '{ }', '23K493', 'BROOKLYN COLLEGIATE ', '37', '394', '372', '375'], ['row-4cb6~crmw~h784', '00000000-0000-0000-C717-8F1F39A88BA7', 0, 1425759032, None, 1425759032, None, '{ }', '23K514', 'Frederick Douglass Academy VII High School ', '50', '416', '396', '414'], ['row-pdk6.3jq3~mji9', '00000000-0000-0000-C832-FCF73EDB1B85', 0, 1425759032, None, 1425759032, None, '{ }', '23K643', 'Brooklyn Democracy Academy ', '18', '347', '371', '323'], ['row-iceb.qqvj.hief', '00000000-0000-0000-767C-7C60E524068E', 0, 1425759032, None, 1425759032, None, '{ }', '23K645', 'EBC High School for Public Service - East New York ', '24', '376', '358', '368'], ['row-yygw-u6qh.fhae', '00000000-0000-0000-CD96-457D09A8C669', 0, 1425759032, None, 1425759032, None, '{ }', '23K646', 'ASPIRATIONS DIPLOMA PLUS HIGH SCHOOL ', '35', '349', '329', '341'], ['row-3rbc-466h.swh3', '00000000-0000-0000-4F97-670913674FC8', 0, 1425759032, None, 1425759032, None, '{ }', '23K647', 'METROPOLITAN DIPLOMA PLUS HIGH SCHOOL ', '12', '385', '378', '391'], ['row-qmrt~872x-kcnu', '00000000-0000-0000-3B4B-57C9E323EB8E', 0, 1425759032, None, 1425759032, None, '{ }', '23K697', 'TEACHERS PREPARATORY SCHOOL ', '59', '396', '389', '389'], ['row-qi5e.77tx_47t4', '00000000-0000-0000-488E-18D48A9E1E56', 0, 1425759032, None, 1425759032, None, '{ }', '24Q264', 'ACADEMY OF FINANCE AND ENTERPRISE ', '65', '407', '432', '417'], ['row-t7fg_ysqd_tnpm', '00000000-0000-0000-2930-3794A7DA9ABE', 0, 1425759032, None, 1425759032, None, '{ }', '24Q267', 'High School of Applied Communication ', '67', '411', '420', '407'], ['row-bb8n.mtmf~8bgc', '00000000-0000-0000-AF7B-CC70ED823346', 0, 1425759032, None, 1425759032, None, '{ }', '24Q293', 'Civic Leadership Academy ', None, None, None, None], ['row-dzsw.b2cr~a4vh', '00000000-0000-0000-93CD-5605093A9718', 0, 1425759032, None, 1425759032, None, '{ }', '24Q296', 'Pan American International High School ', None, None, None, None], ['row-2pmr_srf6~uqj5', '00000000-0000-0000-A02E-ED9D02EA7F1D', 0, 1425759032, None, 1425759032, None, '{ }', '24Q299', 'BARD HIGH SCHOOL EARLY COLLEGE II ', '42', '545', '548', '541'], ['row-tjzv.hn5e-w9ae', '00000000-0000-0000-A7C6-186B77CB21EF', 0, 1425759032, None, 1425759032, None, '{ }', '24Q455', 'NEWTOWN HIGH SCHOOL ', '251', '379', '427', '372'], ['row-mqn9-5bmy~xcns', '00000000-0000-0000-D8D9-625A6D0E2015', 0, 1425759032, None, 1425759032, None, '{ }', '24Q485', 'GROVER CLEVELAND HIGH SCHOOL ', '269', '398', '431', '391'], ['row-be4e_mcbt_m2iv', '00000000-0000-0000-FD03-248BC723C142', 0, 1425759032, None, 1425759032, None, '{ }', '24Q520', 'MIDDLE COLLEGE HIGH SCHOOL ', '32', '386', '402', '373'], ['row-u9ip_knew~twvk', '00000000-0000-0000-9A3E-582CF09AA5A4', 0, 1425759032, None, 1425759032, None, '{ }', '24Q530', 'INTERNATL HS@LA GUARDIA COMM C ', '75', '355', '428', '359'], ['row-z79q_exzx~ura8', '00000000-0000-0000-7872-B6479BAB3718', 0, 1425759032, None, 1425759032, None, '{ }', '24Q550', 'HIGH SCHOOL FOR ARTS/BUSINESS ', '127', '363', '372', '363'], ['row-5cs6_gh8j_b8yx', '00000000-0000-0000-3B30-2AEF20265BF1', 0, 1425759032, None, 1425759032, None, '{ }', '24Q560', 'ROBERT F WAGNER JR SECONDARY ', '49', '420', '440', '421'], ['row-k4rq~juni_bbqf', '00000000-0000-0000-AD7B-665F5D0C6A37', 0, 1425759032, None, 1425759032, None, '{ }', '24Q600', 'Queens Vocational & Tech High School ', '130', '415', '428', '401'], ['row-uzs4-h698_i3dt', '00000000-0000-0000-D9E8-04955B8F0518', 0, 1425759032, None, 1425759032, None, '{ }', '24Q610', 'Aviation Career & Technical Education High School ', '289', '444', '494', '427'], ['row-4rdc.jzmf~wpu6', '00000000-0000-0000-43DB-1ED836F09397', 0, 1425759032, None, 1425759032, None, '{ }', '24Q744', 'VOYAGES PREPARATORY HIGH SCHOOL ', '7', '416', '413', '364'], ['row-3j42-tn2n~z8qt', '00000000-0000-0000-BD3E-E217AA2CDE1C', 0, 1425759032, None, 1425759032, None, '{ }', '25Q252', 'Queens School of Inquiry ', None, None, None, None], ['row-cvpi.m5jq~5tzk', '00000000-0000-0000-C947-20B0A4797EEB', 0, 1425759032, None, 1425759032, None, '{ }', '25Q263', 'FLUSHING INTERNATIONAL HIGH SCHOOL ', '57', '325', '415', '311'], ['row-fjm2~t6nt~zs5h', '00000000-0000-0000-F0B0-EE6B98542B31', 0, 1425759032, None, 1425759032, None, '{ }', '25Q281', 'EAST WEST SCHOOL OF INTERNATIONAL STUDIE ', '50', '438', '485', '442'], ['row-hmt4_ibeq~wunj', '00000000-0000-0000-3782-B8775FBA2F0B', 0, 1425759032, None, 1425759032, None, '{ }', '25Q285', 'WORLD JOURNALISM PREPARATORY SCHOOL ', '56', '429', '425', '421'], ['row-vkxe-fe8g~ip5c', '00000000-0000-0000-AAAB-CB62965649D5', 0, 1425759032, None, 1425759032, None, '{ }', '25Q425', 'JOHN BOWNE HIGH SCHOOL ', '302', '391', '423', '389'], ['row-gkfn-v39j.xxf7', '00000000-0000-0000-4F4E-B0689EBE774B', 0, 1425759032, None, 1425759032, None, '{ }', '25Q460', 'FLUSHING HIGH SCHOOL ', '278', '372', '398', '366'], ['row-izuz_fvt5~ehaf', '00000000-0000-0000-1478-0DD57E015628', 0, 1425759032, None, 1425759032, None, '{ }', '25Q467', 'YABC AT FLUSHING HIGH SCHOOL ', None, None, None, None], ['row-y7rt.iiyy-3h5u', '00000000-0000-0000-DB9B-E4612A73E1AF', 0, 1425759032, None, 1425759032, None, '{ }', '25Q525', 'Townsend Harris High School at Queens College ', '273', '637', '644', '642'], ['row-b6hp.2w5r-2cyb', '00000000-0000-0000-1C13-7E5BA5E52765', 0, 1425759032, None, 1425759032, None, '{ }', '25Q670', 'Robert F Kennedy Community High School ', '61', '449', '471', '462'], ['row-h53q-brbj~h6d8', '00000000-0000-0000-7F88-056C2F147080', 0, 1425759032, None, 1425759032, None, '{ }', '25Q792', 'North Queens Community High School ', '22', '434', '422', '422'], ['row-s9es~fgju~emcp', '00000000-0000-0000-CD3A-5A9BC9793D70', 0, 1425759032, None, 1425759032, None, '{ }', '26Q415', 'BENJAMIN CARDOZO HIGH SCHOOL ', '697', '486', '551', '492'], ['row-7zqe~3zev-f2g8', '00000000-0000-0000-67AA-B6A757C6958E', 0, 1425759032, None, 1425759032, None, '{ }', '26Q430', 'FRANCIS LEWIS HIGH SCHOOL ', '808', '457', '530', '454'], ['row-p9g6-x25w.mace', '00000000-0000-0000-90FE-D74C1D116CB2', 0, 1425759032, None, 1425759032, None, '{ }', '26Q435', 'MARTIN VAN BUREN HIGH SCHOOL ', '343', '402', '411', '398'], ['row-bkw7~ii7d.6t5q', '00000000-0000-0000-1814-6716B17F60A7', 0, 1425759032, None, 1425759032, None, '{ }', '26Q495', 'BAYSIDE HIGH SCHOOL ', '732', '472', '531', '467'], ['row-5kye.md4a_dycz', '00000000-0000-0000-4E19-78445C284FBE', 0, 1425759032, None, 1425759032, None, '{ }', '26Q566', 'Queens High School-Teaching Liberal Arts Sciences ', '144', '438', '455', '433'], ['row-b26j_7tre~bbik', '00000000-0000-0000-5752-55E18B4BE4A2', 0, 1425759032, None, 1425759032, None, '{ }', '27Q260', 'FREDERICK DOUGLASS ACADEMY VI ', '65', '393', '390', '387'], ['row-spwj_y3ng~7mdi', '00000000-0000-0000-E53F-BF395656251E', 0, 1425759032, None, 1425759032, None, '{ }', '27Q262', 'CHANNEL VIEW SCHOOL FOR RESEARCH ', '63', '455', '423', '420'], ['row-43ut~ykjg_d6sn', '00000000-0000-0000-EC6E-F93B183569CF', 0, 1425759032, None, 1425759032, None, '{ }', '27Q302', 'Queens High School for Information, Research, and Te ', None, None, None, None], ['row-5aur~gg5j_izg6', '00000000-0000-0000-32D2-8934556ED5B3', 0, 1425759032, None, 1425759032, None, '{ }', '27Q308', 'Robert H. Goddard High School for Communication Art ', None, None, None, None], ['row-pcc3-fnxf-zcer', '00000000-0000-0000-7591-3F819C4CB137', 0, 1425759032, None, 1425759032, None, '{ }', '27Q309', 'ACADEMY OF MEDICAL TECHNOLOGY ', None, None, None, None], ['row-iwib-3q6e_cx4w', '00000000-0000-0000-B533-6A69EBCE53A1', 0, 1425759032, None, 1425759032, None, '{ }', '27Q323', \"Region Five Scholars' Academy \", None, None, None, None], ['row-yyjf~r4dz.7n8r', '00000000-0000-0000-A1F2-0CCD6A37D0B4', 0, 1425759032, None, 1425759032, None, '{ }', '27Q400', 'AUGUST MARTIN HIGH SCHOOL ', '102', '377', '372', '362'], ['row-zw9v-fx9f.gtyc', '00000000-0000-0000-CE77-DCCEA51302C4', 0, 1425759032, None, 1425759032, None, '{ }', '27Q410', 'BEACH CHANNEL HIGH SCHOOL ', '114', '393', '390', '380'], ['row-wgd9.6arh_dik4', '00000000-0000-0000-F4CF-476114349773', 0, 1425759032, None, 1425759032, None, '{ }', '27Q465', 'FAR ROCKAWAY HIGH SCHOOL ', '31', '350', '369', '360'], ['row-8t36~t9fz~6ytc', '00000000-0000-0000-B0BB-78C497BAF1A2', 0, 1425759032, None, 1425759032, None, '{ }', '27Q475', 'RICHMOND HILL HIGH SCHOOL ', '397', '380', '401', '380'], ['row-jaxa~5dby.bht3', '00000000-0000-0000-7719-E9D932BCABDB', 0, 1425759032, None, 1425759032, None, '{ }', '27Q480', 'JOHN ADAMS HIGH SCHOOL ', '302', '399', '424', '404'], ['row-f48m-zqsp.c56q', '00000000-0000-0000-A6EF-48E4DEBDD102', 0, 1425759032, None, 1425759032, None, '{ }', '27Q487/27Q481', 'YABC AT JOHN ADAMS HIGH SCHOOL ', None, None, None, None], ['row-2aai_9mf2-67mt', '00000000-0000-0000-E407-E7BACF3F4E89', 0, 1425759032, None, 1425759032, None, '{ }', '27Q650', 'HS for Construction Trades, Engineering and Arch ', '87', '421', '464', '424'], ['row-pwne-x595~fmfd', '00000000-0000-0000-9905-43E6ED257576', 0, 1425759032, None, 1425759032, None, '{ }', '28Q310', 'Queens Collegiate: A College Board School ', None, None, None, None], ['row-39si.5p7k.r49h', '00000000-0000-0000-4C1C-ADCD31A6D62C', 0, 1425759032, None, 1425759032, None, '{ }', '28Q338', 'SATELLITE ACADEMY ', '22', '346', '351', '338'], ['row-wizh-cep8~faw6', '00000000-0000-0000-D086-F6E4A19707B7', 0, 1425759032, None, 1425759032, None, '{ }', '28Q440', 'FOREST HILLS HIGH SCHOOL ', '627', '468', '491', '462'], ['row-cd58-85j5_zvwg', '00000000-0000-0000-C12F-158A3370DF5D', 0, 1425759032, None, 1425759032, None, '{ }', '28Q470', 'JAMAICA HIGH SCHOOL ', '153', '393', '400', '391'], ['row-dw6e~i92x.ngda', '00000000-0000-0000-652E-277B61121CE5', 0, 1425759032, None, 1425759032, None, '{ }', '28Q505', 'HILLCREST HIGH SCHOOL ', '498', '385', '400', '385'], ['row-qrwv_nag4_wbsd', '00000000-0000-0000-4223-70CA78D48635', 0, 1425759032, None, 1425759032, None, '{ }', '28Q620', 'Thomas Edison Vocational-Technical High School ', '529', '455', '490', '439'], ['row-qnky~tgek_rugr', '00000000-0000-0000-AFB3-F5848F6DFC0F', 0, 1425759032, None, 1425759032, None, '{ }', '28Q680', 'Queens Gateway to Health Sciences Secondary Schoo ', '89', '525', '532', '515'], ['row-j8nx.2wpx_n2mk', '00000000-0000-0000-728D-A0935C8F38D9', 0, 1425759032, None, 1425759032, None, '{ }', '28Q687', 'QUEENS HS FOR SCIENCE YORK COL ', '99', '613', '650', '612'], ['row-gxe3.wcgk-ehv8', '00000000-0000-0000-59BA-F0A75E184DA8', 0, 1425759032, None, 1425759032, None, '{ }', '28Q690', 'High School For Law Enforcement And Public Safety ', '62', '408', '429', '412'], ['row-8zgd-2bvz~8vpp', '00000000-0000-0000-5E09-31713CFBEADA', 0, 1425759032, None, 1425759032, None, '{ }', '28Q896', \"Young Women's Leadership High School \", None, None, None, None], ['row-2wea_eh7u_ji99', '00000000-0000-0000-FD97-086E8770CF65', 0, 1425759032, None, 1425759032, None, '{ }', '29Q248', 'QUEENS PREPARATORY ACADEMY ', '46', '372', '388', '381'], ['row-48e6~de6u_xdj3', '00000000-0000-0000-492B-B6D99F37BFDB', 0, 1425759032, None, 1425759032, None, '{ }', '29Q259', 'PATHWAYS COLLEGE PREPARATORY SCHOOL ', '42', '406', '415', '394'], ['row-wbvn_nece.hk2a', '00000000-0000-0000-7CF4-F085A73CCEB5', 0, 1425759032, None, 1425759032, None, '{ }', '29Q265', 'EXCELSIOR PREPARATORY HIGH SCHOOL ', '55', '394', '358', '388'], ['row-gw92_ds4k_6wvh', '00000000-0000-0000-D870-513E587DD7A6', 0, 1425759032, None, 1425759032, None, '{ }', '29Q272', 'GEORGE WASHINGTON CARVER HS ', '68', '425', '435', '418'], ['row-2tte-7ng5.5r6n', '00000000-0000-0000-7157-8CBE85E2E3A0', 0, 1425759032, None, 1425759032, None, '{ }', '29Q283', 'PREPARATORY ACADEMY FOR WRITERS ', '18', '413', '402', '388'], ['row-928h_ivke_d36s', '00000000-0000-0000-62FD-7F6ECF9EC46C', 0, 1425759032, None, 1425759032, None, '{ }', '29Q420', 'Springfield Gardens High School ', '20', '429', '402', '403'], ['row-jkis-f68n_a2gq', '00000000-0000-0000-17B1-FB42400F8A1E', 0, 1425759032, None, 1425759032, None, '{ }', '29Q492', 'MATH SCIENCE RESEARCH TECH MAG ', '59', '405', '430', '405'], ['row-amx6_pgar_8tf6', '00000000-0000-0000-2C25-2656D49CC55C', 0, 1425759032, None, 1425759032, None, '{ }', '29Q494', 'LAW GOVERNMENT SERVICE MAGNET ', '60', '406', '412', '391'], ['row-mpe9~65iw_5jdr', '00000000-0000-0000-DA64-550130BFD751', 0, 1425759032, None, 1425759032, None, '{ }', '29Q496', 'BUSINESS COMPUTER APPLICATION ', '52', '388', '389', '380'], ['row-i6xw~kf5y~dmvu', '00000000-0000-0000-B161-ACC32C5D5682', 0, 1425759032, None, 1425759032, None, '{ }', '29Q498', 'Humanities and Arts Magnet High School ', '45', '383', '371', '370'], ['row-h8zi~e9pr~xeuq', '00000000-0000-0000-5B9A-3FFF2C6A6757', 0, 1425759032, None, 1425759032, None, '{ }', '30Q301', 'Academy for Careers in Television and Film ', None, None, None, None], ['row-793v_2cmd~spw5', '00000000-0000-0000-A04A-58C2F4372FE8', 0, 1425759032, None, 1425759032, None, '{ }', '30Q445', 'WILLIAM C BRYANT HIGH SCHOOL ', '322', '405', '456', '408'], ['row-k5wu.f3xf-gmig', '00000000-0000-0000-4303-1254AD0D3C5F', 0, 1425759032, None, 1425759032, None, '{ }', '30Q450', 'LONG ISLAND CITY HIGH SCHOOL ', '296', '418', '434', '408'], ['row-cqcj~9ip9-ngew', '00000000-0000-0000-5C62-E3FC80140DB0', 0, 1425759032, None, 1425759032, None, '{ }', '30Q501', 'Frank Sinatra School of the Arts ', '153', '506', '495', '499'], ['row-5dza~ktk5-wwjg', '00000000-0000-0000-A440-E7E846791BC2', 0, 1425759032, None, 1425759032, None, '{ }', '30Q502', 'INFORMATION TECHNOLOGY HIGH SCHOOL ', '140', '440', '452', '424'], ['row-etbq~uqs7_mt24', '00000000-0000-0000-B042-739CB22A7723', 0, 1425759032, None, 1425759032, None, '{ }', '30Q555', 'NEWCOMERS HIGH SCHOOL ', '147', '343', '447', '346'], ['row-gpsi-7q2u.2pui', '00000000-0000-0000-F827-469267286C91', 0, 1425759032, None, 1425759032, None, '{ }', '30Q575', 'ACADEMY OF AMERICAN STUDIES ', '120', '502', '505', '515'], ['row-wsvt.fhnn-9hm4', '00000000-0000-0000-A16C-1D99C6BBE583', 0, 1425759032, None, 1425759032, None, '{ }', '30Q580', 'BACCALAUREATE SCH GLOBAL EDUC ', '64', '560', '587', '570'], ['row-4m2q-eh3y-uvba', '00000000-0000-0000-0693-ED714ECC4FEC', 0, 1425759032, None, 1425759032, None, '{ }', '31R064', 'Gaynor McCown Expeditionary Learning School ', None, None, None, None], ['row-drc2-57p5~tinh', '00000000-0000-0000-A9F7-86FF21695FA0', 0, 1425759032, None, 1425759032, None, '{ }', '31R080', 'MICHAEL J PETRIDES SCHOOL ', '86', '508', '523', '502'], ['row-2fnz-u9hq-wma3', '00000000-0000-0000-5519-BCA1B2C74ED1', 0, 1425759032, None, 1425759032, None, '{ }', '31R440', 'NEW DORP HIGH SCHOOL ', '282', '431', '446', '434'], ['row-u682-pcqm_99mt', '00000000-0000-0000-139F-85DC22CE7337', 0, 1425759032, None, 1425759032, None, '{ }', '31R445', 'PORT RICHMOND HIGH SCHOOL ', '237', '437', '442', '425'], ['row-8c45.treb~r8wt', '00000000-0000-0000-B30F-8874D22033F6', 0, 1425759032, None, 1425759032, None, '{ }', '31R450', 'CURTIS HIGH SCHOOL ', '373', '439', '441', '430'], ['row-axbt.uxp2~tr5y', '00000000-0000-0000-0C6B-D737EDE344C6', 0, 1425759032, None, 1425759032, None, '{ }', '31R455', 'TOTTENVILLE HIGH SCHOOL ', '698', '459', '482', '467'], ['row-a9m6.w8er~httr', '00000000-0000-0000-9786-650B66555D79', 0, 1425759032, None, 1425759032, None, '{ }', '31R460', 'SUSAN E WAGNER HIGH SCHOOL ', '531', '463', '482', '457'], ['row-xbd6_r3a8_agej', '00000000-0000-0000-C006-FA9157D62031', 0, 1425759032, None, 1425759032, None, '{ }', '31R470', 'CONCORD HIGH SCHOOL ', '10', '474', '431', '397'], ['row-583t_dk5z~bq92', '00000000-0000-0000-1281-33B659DD6B99', 0, 1425759032, None, 1425759032, None, '{ }', '31R600', 'RALPH MCKEE VOC-TECH HIGH SCH ', '48', '411', '429', '386'], ['row-pjz9_r96c-wqzi', '00000000-0000-0000-931B-1F5A9213802C', 0, 1425759032, None, 1425759032, None, '{ }', '31R605', 'STATEN ISLAND TECHNICAL HIGH SCHOOL ', '287', '638', '673', '617'], ['row-f45z~eg3y.x2er', '00000000-0000-0000-501F-450147FA132E', 0, 1425759032, None, 1425759032, None, '{ }', '32K403', 'ACADEMY OF ENVIRONMENTAL LEADERSHIP ', '36', '382', '369', '374'], ['row-fyqw-dpk4~6ta7', '00000000-0000-0000-648D-60677B0C8CDE', 0, 1425759032, None, 1425759032, None, '{ }', '32K480', 'Bushwick High School ', None, None, None, None], ['row-gc4r~mrxy.dubr', '00000000-0000-0000-2FA0-1A567DD8C868', 0, 1425759032, None, 1425759032, None, '{ }', '32K545', 'EBC High School for Public Service - Bushwick ', '82', '389', '390', '376'], ['row-wdn2-vzgz~iupy', '00000000-0000-0000-BB47-F6B97E67083F', 0, 1425759032, None, 1425759032, None, '{ }', '32K549', 'BUSHWICK HS FOR SOCIAL JUSTICE ', '72', '363', '364', '358'], ['row-pzvh~q2z3.9du3', '00000000-0000-0000-901D-91599136050E', 0, 1425759032, None, 1425759032, None, '{ }', '32K552', 'Academy of Urban Planning ', '49', '355', '361', '353'], ['row-wy4v_vha9~8596', '00000000-0000-0000-78C4-D2D27A139351', 0, 1425759032, None, 1425759032, None, '{ }', '32K554', 'ALL CITY LEADERSHIP SECONDARY ', '29', '394', '420', '395'], ['row-zx5g-dppe-6wq5', '00000000-0000-0000-EB0F-677241804738', 0, 1425759032, None, 1425759032, None, '{ }', '32K556', 'Bushwick Leaders High School for Academic Excel ', '30', '357', '345', '351'], ['row-ah2y_zkxk.2wvq', '00000000-0000-0000-6B72-74F8EFEC97C2', 0, 1425759032, None, 1425759032, None, '{ }', '72X470', 'South Bronx High School ', None, None, None, None], ['row-hznd_wa82_xum5', '00000000-0000-0000-303B-2E5AAC9457B9', 0, 1425759032, None, 1425759032, None, '{ }', '75K371', 'LILLIAN L RASHKIS HS P371K ', None, None, None, None], ['row-i55d-igbd-wmpv', '00000000-0000-0000-0093-F5C1DBC3B489', 0, 1425759032, None, 1425759032, None, '{ }', '75M035', 'MANHATTAN HIGH SCHOOL - P35M ', None, None, None, None], ['row-ipg3.kkkx~5b9g', '00000000-0000-0000-F7E4-DEDE8132977B', 0, 1425759032, None, 1425759032, None, '{ }', '75Q004', 'P4Q SCHOOL (@ 179) ', None, None, None, None], ['row-kcgg_hby2_6faz', '00000000-0000-0000-F6A6-B881751D2951', 0, 1425759032, None, 1425759032, None, '{ }', '75Q256', \"P256 QUEENS SCHOOL @ SAINT MARY'S \", None, None, None, None], ['row-i5gw_ck3q.nue8', '00000000-0000-0000-8078-7A147F6FA0C9', 0, 1425759032, None, 1425759032, None, '{ }', '75R025', 'South Richmond High School ', '10', '407', '421', '400'], ['row-jppz~xcuh-57tr', '00000000-0000-0000-D933-D0DAAB365B57', 0, 1425759032, None, 1425759032, None, '{ }', '75X012', 'PS12X LEWIS AND CLARK SCHOOL ', None, None, None, None], ['row-8duc~feey~t244', '00000000-0000-0000-2165-FE722D8B7E06', 0, 1425759032, None, 1425759032, None, '{ }', '75X754', 'P754 X - Jeffrey M. Rapport School for Career Devt ', None, None, None, None], ['row-jvd6_26rx~64rm', '00000000-0000-0000-BFF0-935D0CDB9169', 0, 1425759032, None, 1425759032, None, '{ }', '76K460', 'John Jay High School ', '9', '390', '381', '398'], ['row-hpxz~7rpw~yh6d', '00000000-0000-0000-35C4-A30CE211275A', 0, 1425759032, None, 1425759032, None, '{ }', '79X490', 'PHOENIX SCHOOL ', '7', '404', '423', '416']]\n",
      "meta\n",
      "data\n"
     ]
    }
   ],
   "source": [
    "with open('sat.json','r', encoding='utf-8') as infile:\n",
    "    data = json.load(infile)\n",
    "print(data['data'][8:])\n",
    "[x[8:] for x in a]\n",
    "for entry in data:\n",
    "    # print(data)\n",
    "    print(entry)\n"
   ]
  },
  {
   "cell_type": "code",
   "execution_count": null,
   "metadata": {},
   "outputs": [
    {
     "data": {
      "text/plain": [
       "['01M125', '01M450', '02M294', '02M303', '02M418']"
      ]
     },
     "execution_count": 54,
     "metadata": {},
     "output_type": "execute_result"
    }
   ],
   "source": [
    "dbns = [\"02M303\", \"02M294\", \"01M450\", \"02M418\", \"01M125\"]\n",
    "sorted(dbns, key=lambda x: (int(x[0:2]), int(x[3:])))\n"
   ]
  },
  {
   "cell_type": "code",
   "execution_count": null,
   "metadata": {},
   "outputs": [],
   "source": [
    "import json\n",
    "import pandas as pd\n",
    "\n",
    "class SatData:\n",
    "    def __init__(self):\n",
    "        self._data = self._read_json_file()\n",
    "\n",
    "    def _read_json_file(self):\n",
    "        with open('sat.json','r', encoding='utf-8') as infile:\n",
    "            data = json.load(infile)\n",
    "        return data['data']\n",
    "\n",
    "    def save_as_csv(self, dbns):\n",
    "        dbn_data = [entry for entry in self._data if entry[8] in dbns]\n",
    "        sorted_data = sorted(dbn_data, key=lambda x: (int(x[8][0:2]), int(x[8][3:])))\n",
    "        sorted_data = [x[8:] for x in sorted_data]\n",
    "        \n",
    "        name = [\"DBN\" , \"School Name\", \"Number of Test Takers\", \"Critical Reading Mean\", \"Mathematics Mean\", \"Writing Mean\"]\n",
    "        pd.DataFrame(columns=name , data=sorted_data).to_csv(\"output.csv\")\n",
    "\n",
    "  \n",
    "def main(): \n",
    "    sd = SatData()\n",
    "    dbns = [\"02M303\", \"02M294\", \"01M450\", \"02M418\"]\n",
    "    sd.save_as_csv(dbns)\n",
    "if __name__ == '__main_':\n",
    "    main()"
   ]
  },
  {
   "cell_type": "code",
   "execution_count": null,
   "metadata": {},
   "outputs": [],
   "source": []
  },
  {
   "cell_type": "code",
   "execution_count": null,
   "metadata": {},
   "outputs": [],
   "source": [
    "import json\n",
    "\n",
    "class DuplicateNameError(Exception):\n",
    "    pass\n",
    "\n",
    "class NeighborhoodPets:\n",
    "    def __init__(self):\n",
    "        self.______pets = []\n",
    "\n",
    "    def add_pet(self, name, species, owner):\n",
    "        if name in self.__pets:\n",
    "            raise DuplicateNameError(\"Pet with the same name already exists.\")\n",
    "        \n",
    "        self.__pets[name] = {\"species\": species, \"owner\": owner}\n",
    "\n",
    "    def delete_pet(self, name):\n",
    "        if name in self.__pets:\n",
    "            del self.__pets[name]\n",
    "\n",
    "    def get_owner(self, name):\n",
    "        if name in self.__pets:\n",
    "            return self.__pets[name][\"owner\"]\n",
    "        else:\n",
    "            return None\n",
    "\n",
    "    def save_as_json(self, filename):\n",
    "        with open(filename, 'w') as file:\n",
    "            json.dump(self.__pets, file)\n",
    "\n",
    "    def read_json(self, filename):\n",
    "        with open(filename, 'r') as file:\n",
    "            self.__pets = json.load(file)\n",
    "\n",
    "    def get_all_species(self):\n",
    "        species_set = set()\n",
    "        for pet_info in self.__pets.values():\n",
    "            species_set.add(pet_info[\"species\"])\n",
    "        return species_set\n"
   ]
  },
  {
   "cell_type": "code",
   "execution_count": null,
   "metadata": {},
   "outputs": [],
   "source": [
    "import json\n",
    "\n",
    "class DuplicateNameError(Exception):\n",
    "    pass\n",
    "\n",
    "class NeighborhoodPets:\n",
    "    def __init__(self):\n",
    "        self.__pets = []\n",
    "\n",
    "    def add_pet(self, name, species, owner):\n",
    "        for pet in self.__pets:\n",
    "            if pet[\"name\"] == name:\n",
    "                raise DuplicateNameError(\"Pet with the same name already exists.\")\n",
    "        \n",
    "        pet_data = {\n",
    "            \"name\": name,\n",
    "            \"species\": species,\n",
    "            \"owner\": owner\n",
    "        }\n",
    "        self.__pets.append(pet_data)\n",
    "\n",
    "    def delete_pet(self, name):\n",
    "        if name in self.__pets:\n",
    "            del self.__pets[name]\n",
    "\n",
    "    def get_owner(self, name):\n",
    "        for pet in self.__pets:\n",
    "            if pet[\"name\"] == name:\n",
    "                return pet[\"owner\"]\n",
    "        return None\n",
    "\n",
    "    def save_as_json(self, file_name):\n",
    "        with open(file_name, 'w') as file:\n",
    "            json.dump(self.__pets, file, indent=4)\n",
    "\n",
    "    def read_json(self, file_name):\n",
    "        with open(file_name, 'r') as file:\n",
    "            self.__pets = json.load(file)\n",
    "\n",
    "    def get_all_species(self):\n",
    "        return {pet[\"species\"] for pet in self.__pets}\n",
    "\n",
    "\"\"\"Example\"\"\"\n",
    "def main():\n",
    "    np = NeighborhoodPets()\n",
    "    try:\n",
    "        np.add_pet(\"Fluffy\", \"gila monster\", \"Oksana\")\n",
    "        np.add_pet(\"Tiny\", \"stegosaurus\", \"Rachel\")\n",
    "        np.add_pet(\"Spot\", \"zebra\", \"Farrokh\")\n",
    "    except DuplicateNameError:\n",
    "        print('You tried to enter a pet with the same name as another pet.')\n",
    "\n",
    "    np.save_as_json(\"pets.json\")\n",
    "    np.delete_pet(\"Tiny\")\n",
    "    spot_owner = np.get_owner(\"Spot\")\n",
    "    np.read_json(\"pets.json\")  \n",
    "    species_set = np.get_all_species()\n",
    "\n",
    "if __name__ == '__main__':\n",
    "    main()"
   ]
  },
  {
   "cell_type": "code",
   "execution_count": null,
   "metadata": {},
   "outputs": [],
   "source": [
    "import json\n",
    "\n",
    "class DuplicateNameError(Exception):\n",
    "    pass\n",
    "\n",
    "class NeighborhoodPets:\n",
    "    def __init__(self):\n",
    "        self._pets = []\n",
    "\n",
    "    def add_pet(self, name, species, owner):\n",
    "        for pet in self._pets:\n",
    "            if pet[\"name\"] == name:\n",
    "                raise DuplicateNameError(\"Pet with the same name already exists.\")\n",
    "        \n",
    "        pet_data = {\n",
    "            \"name\": name,\n",
    "            \"species\": species,\n",
    "            \"owner\": owner\n",
    "        }\n",
    "        self._pets.append(pet_data)\n",
    "\n",
    "    def delete_pet(self, name):\n",
    "        self._pets = [pet for pet in self._pets if pet[\"name\"] != name]\n",
    "\n",
    "    def get_owner(self, name):\n",
    "        for pet in self._pets:\n",
    "            if pet[\"name\"] == name:\n",
    "                return pet[\"owner\"]\n",
    "        return None\n",
    "\n",
    "    def save_as_json(self, file_name):\n",
    "        with open(file_name, 'w') as file:\n",
    "            json.dump(self._pets, file, indent=4)\n",
    "\n",
    "    def read_json(self, file_name):\n",
    "        with open(file_name, 'r') as file:\n",
    "            self._pets = json.load(file)\n",
    "\n",
    "    def get_all_species(self):\n",
    "        return {pet[\"species\"] for pet in self._pets}\n",
    "\n",
    "# Example usage:\n",
    "np = NeighborhoodPets()\n",
    "try:\n",
    "    np.add_pet(\"Fluffy\", \"gila monster\", \"Oksana\")\n",
    "    np.add_pet(\"Tiny\", \"stegosaurus\", \"Rachel\")\n",
    "    np.add_pet(\"Spot\", \"zebra\", \"Farrokh\")\n",
    "except DuplicateNameError:\n",
    "    print('You tried to enter a pet with the same name as another pet.')\n",
    "\n",
    "np.save_as_json(\"pets.json\")\n",
    "np.delete_pet(\"Tiny\")\n",
    "spot_owner = np.get_owner(\"Spot\")\n",
    "np.read_json(\"other_pets.json\")  # where other_pets.json is a file it saved in some previous session\n",
    "species_set = np.get_all_species()\n"
   ]
  },
  {
   "cell_type": "code",
   "execution_count": null,
   "metadata": {},
   "outputs": [
    {
     "name": "stdout",
     "output_type": "stream",
     "text": [
      "e\n",
      "le\n",
      "ele\n",
      "pele\n",
      "hpele\n",
      "ahpele\n",
      "nahpele\n",
      "tnahpele\n",
      "tnahpele\n"
     ]
    }
   ],
   "source": [
    "# version 4\n",
    "def reverse_str(st, pos=0, rev=\"\"):    \n",
    "    \"\"\"    \n",
    "    Returns a new string that is the reverse of st    \n",
    "    When first called, the pos parameter must be zero and    \n",
    "    the rev parameter must be \"\" (the empty string)    \n",
    "    \"\"\"    \n",
    "    if pos == len(st):        \n",
    "        return rev    \n",
    "  \n",
    "    intermediate = st[pos] + rev\n",
    "    print(intermediate)\n",
    "#   return reverse_str(st, pos+1) + st[pos]\n",
    "#   return reverse_str(st, pos+1, st[pos] + rev)\n",
    "    return reverse_str(st, pos+1, intermediate)\n",
    "\n",
    "\n",
    "print(reverse_str(\"elephant\"))"
   ]
  },
  {
   "cell_type": "code",
   "execution_count": null,
   "metadata": {},
   "outputs": [
    {
     "name": "stdout",
     "output_type": "stream",
     "text": [
      "tnahpele\n"
     ]
    }
   ],
   "source": [
    "# version 5\n",
    "def reverse_str(st):    \n",
    "  \"\"\"    \n",
    "  Returns a new string that is the reverse of st    \n",
    "  \"\"\"    \n",
    "  if len(st) == 0:        \n",
    "    return \"\"    \n",
    "  \n",
    "  return reverse_str(st[1:]) + st[0]\n",
    "\n",
    "\n",
    "print(reverse_str(\"elephant\"))"
   ]
  },
  {
   "cell_type": "code",
   "execution_count": null,
   "metadata": {},
   "outputs": [
    {
     "name": "stdout",
     "output_type": "stream",
     "text": [
      "\n",
      "b\n",
      "ab\n",
      "nab\n",
      "anab\n",
      "nanab\n",
      "ananab\n"
     ]
    },
    {
     "data": {
      "text/plain": [
       "'sananab'"
      ]
     },
     "execution_count": 16,
     "metadata": {},
     "output_type": "execute_result"
    }
   ],
   "source": [
    "def reverse_str(st, pos=0, rev=\"\"):\n",
    "    \"\"\"\n",
    "    Returns a new string that is the reverse of st\n",
    "    When first called, the pos parameter must be zero and\n",
    "    the rev parameter must be \"\" (the empty string)\n",
    "    \"\"\"\n",
    "    if pos == len(st):\n",
    "        return rev\n",
    "    print(rev)\n",
    "    return reverse_str(st, pos+1, st[pos] + rev)\n",
    "\n",
    "reverse_str(\"bananas\")"
   ]
  },
  {
   "cell_type": "code",
   "execution_count": null,
   "metadata": {},
   "outputs": [
    {
     "data": {
      "text/plain": [
       "'tauqmuk'"
      ]
     },
     "execution_count": 13,
     "metadata": {},
     "output_type": "execute_result"
    }
   ],
   "source": [
    "def reverse_str(st):\n",
    "    \"\"\"\n",
    "    Returns a new string that is the reverse of st\n",
    "    \"\"\"\n",
    "    if len(st) == 0:\n",
    "        return \"\"\n",
    "\n",
    "    return reverse_str(st[1:]) + st[0]\n",
    "\n",
    "reverse_str(\"kumquat\")"
   ]
  },
  {
   "cell_type": "code",
   "execution_count": null,
   "metadata": {},
   "outputs": [
    {
     "name": "stdout",
     "output_type": "stream",
     "text": [
      "0\n",
      "1\n",
      "2\n",
      "3\n",
      "4\n",
      "5\n"
     ]
    },
    {
     "data": {
      "text/plain": [
       "'selppa'"
      ]
     },
     "execution_count": 15,
     "metadata": {},
     "output_type": "execute_result"
    }
   ],
   "source": [
    "def reverse_str(st, pos):\n",
    "    \"\"\"\n",
    "    Returns a new string that is the reverse of st\n",
    "    When first called, the pos parameter must be zero\n",
    "    \"\"\"\n",
    "    if pos == len(st):\n",
    "        return \"\"\n",
    "    print(pos)\n",
    "    return reverse_str(st, pos+1) + st[pos]\n",
    "    \n",
    "\n",
    "reverse_str(\"apples\", 0)\n"
   ]
  },
  {
   "cell_type": "code",
   "execution_count": null,
   "metadata": {},
   "outputs": [
    {
     "name": "stdout",
     "output_type": "stream",
     "text": [
      "The maximum value in the list is: 58\n"
     ]
    }
   ],
   "source": [
    "def list_max(a_list):\n",
    "\n",
    "    if len(a_list) == 0:\n",
    "        return ('There are no numbers in the list. No maximum value can be returned')\n",
    "\n",
    "    if len(a_list) == 1:\n",
    "        return a_list[0]\n",
    "    \n",
    "    mid = len(a_list) // 2\n",
    "    left_max = list_max(a_list[:mid])\n",
    "    right_max = list_max(a_list[mid:])\n",
    "\n",
    "    if left_max >= right_max:\n",
    "        return left_max\n",
    "    else:\n",
    "        return right_max\n",
    "\n",
    "    # return left_max if left_max >= right_max else right_max\n",
    "\n",
    "\n",
    "\n",
    "def main():\n",
    "    num_list = [5,7,1,9,58,36,9,57,14,32,8]\n",
    "    print(\"The maximum value in the list is:\", list_max(num_list))\n",
    "\n",
    "if __name__ == '__main__':\n",
    "    main()"
   ]
  },
  {
   "cell_type": "code",
   "execution_count": null,
   "metadata": {},
   "outputs": [
    {
     "name": "stdout",
     "output_type": "stream",
     "text": [
      "[[2, 3, 9, 18], [2, 4, 5, 20], [2, 4, 6, 12]]\n"
     ]
    }
   ],
   "source": [
    "solutions = []\n",
    "\n",
    "for i in range(1, 100):\n",
    "    for j in range(i + 1, 100):\n",
    "        for k in range(j + 1, 100):\n",
    "            for s in range(k + 1, 100):\n",
    "                if 1 / i + 1 / j + 1 / k + 1 / s == 1:\n",
    "                    solutions.append([i, j, k, s])\n",
    "\n",
    "print(solutions)\n"
   ]
  },
  {
   "cell_type": "code",
   "execution_count": null,
   "metadata": {},
   "outputs": [
    {
     "name": "stdout",
     "output_type": "stream",
     "text": [
      "False\n"
     ]
    }
   ],
   "source": [
    "def  is_decreasing(a_list, pos = 0):\n",
    "    \n",
    "    if a_list[pos] <= a_list[pos + 1]:\n",
    "        return False\n",
    "    \n",
    "    elif a_list[pos] > a_list[pos + 1] and pos == len(a_list) - 1:\n",
    "        return True\n",
    "    \n",
    "    return is_decreasing(a_list, pos + 1)\n",
    "\n",
    "\n",
    "def main():\n",
    "    num_list = [10, 7, 9, 4, 2]\n",
    "    print(is_decreasing(num_list))\n",
    "\n",
    "if __name__ == '__main__':\n",
    "    main()"
   ]
  },
  {
   "cell_type": "code",
   "execution_count": null,
   "metadata": {},
   "outputs": [
    {
     "name": "stdout",
     "output_type": "stream",
     "text": [
      "True\n"
     ]
    }
   ],
   "source": [
    "def is_decreasing(numbers, pos=0):\n",
    "    if pos == len(numbers) - 2:\n",
    "        return numbers[pos] > numbers[pos + 1]\n",
    "\n",
    "    if numbers[pos] <= numbers[pos + 1]:\n",
    "        return False\n",
    "\n",
    "    return is_decreasing(numbers, pos + 1)\n",
    "\n",
    "# Example usage:\n",
    "if __name__ == \"__main__\":\n",
    "    numbers_list = [113, 100]\n",
    "    print(is_decreasing(numbers_list))\n"
   ]
  },
  {
   "cell_type": "code",
   "execution_count": null,
   "metadata": {},
   "outputs": [
    {
     "name": "stdout",
     "output_type": "stream",
     "text": [
      "False\n"
     ]
    }
   ],
   "source": [
    "def is_subsequence(string_1, string_2, i=0, j=0):\n",
    "    # Base cases\n",
    "    if i == len(string_1):\n",
    "        return True\n",
    "    if j == len(string_2):\n",
    "        return False\n",
    "\n",
    "    # If the characters match, move to the next character in both strings\n",
    "    if string_1[i] == string_2[j]:\n",
    "        return is_subsequence(string_1, string_2, i + 1, j + 1)\n",
    "\n",
    "    # If the characters don't match, move to the next character in the second string\n",
    "    return is_subsequence(string_1, string_2, i, j + 1)\n",
    "\n",
    "\"\"\"Example\"\"\"\n",
    "def main():\n",
    "    string_1 = \"aeiuo\"\n",
    "    string_2 = \"facetious\"\n",
    "    print(is_subsequence(string_1, string_2))\n",
    "if __name__ == \"__main__\":\n",
    "    main()"
   ]
  },
  {
   "cell_type": "code",
   "execution_count": null,
   "metadata": {},
   "outputs": [
    {
     "name": "stdout",
     "output_type": "stream",
     "text": [
      "True\n",
      "False\n",
      "False\n"
     ]
    }
   ],
   "source": [
    "def row_puzzle(row, pos=0, visited=None):\n",
    "    if visited is None:\n",
    "        visited = set()\n",
    "\n",
    "    if pos in visited or pos < 0 or pos >= len(row):\n",
    "        return False\n",
    "\n",
    "    visited.add(pos)\n",
    "\n",
    "    if row[pos] == 0 and pos == len(row) - 1:\n",
    "        return True\n",
    "\n",
    "    return row_puzzle(row, pos + row[pos], visited) or row_puzzle(row, pos - row[pos], visited)\n",
    "\n",
    "# Example usage:\n",
    "if __name__ == \"__main__\":\n",
    "    row1 = [2, 0, 5, 3, 1, 3, 1, 4, 0]\n",
    "    row2 = [1, 3, 2, 1, 1, 4, 0]\n",
    "    row3 = [2, 1, 0, 3, 8, 4, 0]\n",
    "\n",
    "    print(row_puzzle(row1))\n",
    "    print(row_puzzle(row2))\n",
    "    print(row_puzzle(row3))\n"
   ]
  },
  {
   "cell_type": "code",
   "execution_count": null,
   "metadata": {},
   "outputs": [],
   "source": [
    "# 链表\n",
    "\n",
    "class Node:\n",
    "    \"\"\"\n",
    "    Represents a node in a linked list 表示链表中的节点\n",
    "    \"\"\"\n",
    "    def __init__(self, data):\n",
    "        self.data = data\n",
    "        self.next = None\n",
    "\n",
    "class LinkedList:\n",
    "    \"\"\"\n",
    "    A linked list implementation of the List ADT 列表ADT(抽象数据类型)的链表实现\n",
    "    \"\"\"\n",
    "    def __init__(self):\n",
    "        self._head = None\n",
    "\n",
    "    def add(self, val):\n",
    "        \"\"\"\n",
    "        Adds a node containing val to the end of the linked list 将包含val的节点添加到链表的末尾\n",
    "        \"\"\"\n",
    "        if self._head is None:  # If the list is empty\n",
    "            self._head = Node(val)\n",
    "        else:\n",
    "            current = self._head\n",
    "            while current.next is not None:\n",
    "                current = current.next\n",
    "            current.next = Node(val)\n",
    "\n",
    "    def display(self):\n",
    "        \"\"\"\n",
    "        Prints out the values in the linked list 输出链表中的值\n",
    "        \"\"\"\n",
    "        current = self._head\n",
    "        while current is not None:\n",
    "            print(current.data, end=\" \")\n",
    "            current = current.next\n",
    "        print()\n",
    "\n",
    "    def remove(self, val):\n",
    "        \"\"\"\n",
    "        Removes the node containing val from the linked list 从链表中删除包含val的节点\n",
    "        \"\"\"\n",
    "        if self._head is None:  # If the list is empty\n",
    "            return\n",
    "\n",
    "        if self._head.data == val:  # If the node to remove is the head\n",
    "            self._head = self._head.next\n",
    "        else:\n",
    "            current = self._head\n",
    "            while current is not None and current.data != val:\n",
    "                previous = current\n",
    "                current = current.next\n",
    "            if current is not None:  # If we found the value in the list\n",
    "                previous.next = current.next\n",
    "\n",
    "    def is_empty(self):\n",
    "        \"\"\"\n",
    "        Returns True if the linked list is empty,\n",
    "        returns False otherwise\n",
    "        \"\"\"\n",
    "        return self._head is None"
   ]
  },
  {
   "cell_type": "code",
   "execution_count": null,
   "metadata": {},
   "outputs": [
    {
     "name": "stdout",
     "output_type": "stream",
     "text": [
      "8 18 1998 2008 \n",
      "8 18 1998 \n"
     ]
    }
   ],
   "source": [
    "mylist = LinkedList()\n",
    "mylist.add(8)\n",
    "mylist.add(18)\n",
    "mylist.add(1998)\n",
    "mylist.add(2008)\n",
    "mylist.display()\n",
    "mylist.remove(2008)\n",
    "mylist.display()"
   ]
  },
  {
   "cell_type": "code",
   "execution_count": null,
   "metadata": {},
   "outputs": [],
   "source": [
    "class Stack:    \n",
    "  \"\"\"    \n",
    "  An implementation of the Stack ADT that uses Python's built-in lists    \n",
    "  \"\"\"    \n",
    "  def __init__(self):        \n",
    "    self.list = []    \n",
    "  \n",
    "  def push(self, data):        \n",
    "    self.list.append(data)    \n",
    "    \n",
    "  def pop(self):        \n",
    "    val = self.list[-1]        \n",
    "    del self.list[-1]        \n",
    "    return val    \n",
    "  \n",
    "  def peek(self):        \n",
    "    return self.list[-1]    \n",
    "  \n",
    "  def is_empty(self):        \n",
    "    return len(self.list) == 0\n",
    "    \n",
    "\n",
    "class Queue:    \n",
    "  \"\"\"    \n",
    "  An implementation of the Queue ADT that uses Python's built-in lists    \n",
    "  \"\"\"    \n",
    "  def __init__(self):        \n",
    "    self.list = []   \n",
    "  \n",
    "  def enqueue(self, data):        \n",
    "    self.list.append(data)    \n",
    "  \n",
    "  def dequeue(self):        \n",
    "    val = self.list[0]        \n",
    "    del self.list[0]        \n",
    "    return val    \n",
    "  \n",
    "  def is_empty(self):        \n",
    "    return len(self.list) == 0"
   ]
  },
  {
   "cell_type": "code",
   "execution_count": null,
   "metadata": {},
   "outputs": [],
   "source": [
    "# 链表\n",
    "\n",
    "class Node:\n",
    "    \"\"\"\n",
    "    Represents a node in a linked list 表示链表中的节点\n",
    "    \"\"\"\n",
    "    def __init__(self, data):\n",
    "        self.data = data\n",
    "        self.next = None\n",
    "\n",
    "class LinkedList:\n",
    "    \"\"\"\n",
    "    A linked list implementation of the List ADT 列表ADT(抽象数据类型)的链表实现\n",
    "    \"\"\"\n",
    "    def __init__(self):\n",
    "        self._head = None\n",
    "\n",
    "    def add(self, val):\n",
    "        \"\"\"\n",
    "        Adds a node containing val to the end of the linked list 将包含val的节点添加到链表的末尾\n",
    "        \"\"\"\n",
    "        if self._head is None:  # If the list is empty\n",
    "            self._head = Node(val)\n",
    "        else:\n",
    "            current = self._head\n",
    "            while current.next is not None:\n",
    "                current = current.next\n",
    "            current.next = Node(val)\n",
    "\n",
    "    def display(self):\n",
    "        \"\"\"\n",
    "        Prints out the values in the linked list 输出链表中的值\n",
    "        \"\"\"\n",
    "        current = self._head\n",
    "        while current is not None:\n",
    "            print(current.data, end=\" \")\n",
    "            current = current.next\n",
    "        print()\n",
    "\n",
    "    def remove(self, val):\n",
    "        \"\"\"\n",
    "        Removes the node containing val from the linked list 从链表中删除包含val的节点\n",
    "        \"\"\"\n",
    "        if self._head is None:  # If the list is empty\n",
    "            return\n",
    "\n",
    "        if self._head.data == val:  # If the node to remove is the head\n",
    "            self._head = self._head.next\n",
    "        else:\n",
    "            current = self._head\n",
    "            while current is not None and current.data != val:\n",
    "                previous = current\n",
    "                current = current.next\n",
    "            if current is not None:  # If we found the value in the list\n",
    "                previous.next = current.next\n",
    "\n",
    "    def is_empty(self):\n",
    "        \"\"\"\n",
    "        Returns True if the linked list is empty,\n",
    "        returns False otherwise\n",
    "        \"\"\"\n",
    "        return self._head is None"
   ]
  },
  {
   "cell_type": "code",
   "execution_count": null,
   "metadata": {},
   "outputs": [],
   "source": [
    "# LinkedList.py\n",
    "\n",
    "class Node:\n",
    "    \"\"\"\n",
    "    Represents a node in a linked list\n",
    "    \"\"\"\n",
    "    def __init__(self, data):\n",
    "        self.data = data\n",
    "        self.next = None\n",
    "\n",
    "class LinkedList:\n",
    "    \"\"\"\n",
    "    A linked list implementation of the List ADT \n",
    "    \"\"\"\n",
    "    def __init__(self):\n",
    "        self._head = None\n",
    "\n",
    "    def add(self, val):\n",
    "        \"\"\"Adds a node containing val to the end of the linked list\"\"\"\n",
    "        if self._head is None:      # If the list is empty\n",
    "            self._head = Node(val)\n",
    "        else:\n",
    "            self.rec_add(self._head, val)\n",
    "\n",
    "    def rec_add(self, current, val):\n",
    "        \"\"\"Recursive helper method for add\"\"\"\n",
    "        if current.next is None:\n",
    "            current.next = Node(val)\n",
    "        else:\n",
    "            self.rec_add(current.next, val)\n",
    "\n",
    "    def remove(self, val):\n",
    "        \"\"\"Removes the node containing val from the linked list\"\"\"\n",
    "        self._head = self._rec_remove(self._head, val)\n",
    "\n",
    "    def _rec_remove(self, current, val):\n",
    "        \"\"\"Recursive helper method for remove\"\"\"\n",
    "        if current is None:\n",
    "            return None\n",
    "\n",
    "        if current.data == val:\n",
    "            return current.next\n",
    "\n",
    "        current.next = self._rec_remove(current.next, val)\n",
    "        return current\n",
    "\n",
    "    def contains(self, val):\n",
    "        \"\"\"Returns True if the linked list contains the given value, False otherwise\"\"\"\n",
    "        return self._rec_contains(self._head, val)\n",
    "\n",
    "    def _rec_contains(self, current, val):\n",
    "        \"\"\"Recursive helper method for contains\"\"\"\n",
    "        if current is None:\n",
    "            return False\n",
    "\n",
    "        if current.data == val:\n",
    "            return True\n",
    "\n",
    "        return self._rec_contains(current.next, val)\n",
    "\n",
    "    def insert(self, index, val):\n",
    "        \"\"\"Inserts a node containing val at the specified index\"\"\"\n",
    "        if index < 0 or self._head is None:\n",
    "            self._head = Node(val)\n",
    "        else:\n",
    "            self._head = self._rec_insert(self._head, index, val)\n",
    "\n",
    "    def _rec_insert(self, current, index, val):\n",
    "        \"\"\"Recursive helper method for insert\"\"\"\n",
    "        if index == 0:\n",
    "            new_node = Node(val)\n",
    "            new_node.next = current\n",
    "            return new_node\n",
    "\n",
    "        if current is None:\n",
    "            return Node(val)\n",
    "\n",
    "        current.next = self._rec_insert(current.next, index - 1, val)\n",
    "        return current\n",
    "\n",
    "    def reverse(self):\n",
    "        \"\"\"Reverses the linked list in place\"\"\"\n",
    "        self._head = self._rec_reverse(self._head)\n",
    "\n",
    "    def _rec_reverse(self, current):\n",
    "        \"\"\"Recursive helper method for reverse\"\"\"\n",
    "        if current is None or current.next is None:\n",
    "            return current\n",
    "\n",
    "        rest = self._rec_reverse(current.next)\n",
    "        current.next.next = current\n",
    "        current.next = None\n",
    "        return rest\n",
    "\n",
    "    def to_plain_list(self):\n",
    "        \"\"\"Returns a regular Python list with the same values and order as the linked list\"\"\"\n",
    "        return self._rec_to_plain_list(self._head)\n",
    "\n",
    "    def _rec_to_plain_list(self, current):\n",
    "        \"\"\"Recursive helper method for to_plain_list\"\"\"\n",
    "        if current is None:\n",
    "            return []\n",
    "\n",
    "        return [current.data] + self._rec_to_plain_list(current.next)\n",
    "\n",
    "    def get_head(self):\n",
    "        \"\"\"Returns the first Node object in the list\"\"\"\n",
    "        return self._head\n"
   ]
  },
  {
   "cell_type": "code",
   "execution_count": null,
   "metadata": {},
   "outputs": [],
   "source": [
    "# LinkedList.py\n",
    "\n",
    "class Node:\n",
    "    \"\"\"\n",
    "    Represents a node in a linked list\n",
    "    \"\"\"\n",
    "    def __init__(self, data):\n",
    "        self.data = data\n",
    "        self.next = None\n",
    "\n",
    "class LinkedList:\n",
    "    \"\"\"\n",
    "    A linked list implementation of the List ADT \n",
    "    \"\"\"\n",
    "    def __init__(self):\n",
    "        self._head = None\n",
    "        self._length = 0\n",
    "\n",
    "\n",
    "    def add(self, val):\n",
    "        \"\"\"Adds a node containing val to the end of the linked list\"\"\"\n",
    "        if self._head is None:      # If the list is empty\n",
    "            self._head = Node(val)\n",
    "            self._length += 1\n",
    "        else:\n",
    "            self.rec_add(self._head, val)\n",
    "            self._length += 1\n",
    "\n",
    "    def rec_add(self, current, val):\n",
    "        \"\"\"Recursive helper method for add\"\"\"\n",
    "        if current.next is None:\n",
    "            current.next = Node(val)\n",
    "        else:\n",
    "            self.rec_add(current.next, val)\n",
    "\n",
    "    def remove(self, val):\n",
    "        \"\"\"Removes the node containing val from the linked list\"\"\"\n",
    "        self._head = self.rec_remove(self._head, val)\n",
    "        self._length -= 1\n",
    "\n",
    "    def rec_remove(self, current, val):\n",
    "        \"\"\"Recursive helper method for remove\"\"\"\n",
    "        if current is None:\n",
    "            return None\n",
    "\n",
    "        if current.data == val:\n",
    "            return current.next\n",
    "\n",
    "        current.next = self.rec_remove(current.next, val)\n",
    "        return current\n",
    "\n",
    "    def contains(self, val):\n",
    "        \"\"\"Returns True if the linked list contains the given value, False otherwise\"\"\"\n",
    "        return self.rec_contains(self._head, val)\n",
    "\n",
    "    def rec_contains(self, current, val):\n",
    "        \"\"\"Recursive helper method for contains\"\"\"\n",
    "        if current is None:\n",
    "            return False\n",
    "\n",
    "        if current.data == val:\n",
    "            return True\n",
    "\n",
    "        return self.rec_contains(current.next, val)\n",
    "\n",
    "    def insert(self, index, val):\n",
    "        \"\"\"Inserts a node containing val at the specified index\"\"\"\n",
    "\n",
    "        if index < 0:        # Convert negative index\n",
    "            index += self._length\n",
    "            self._head = self.rec_insert(self._head, index, val)\n",
    "\n",
    "\n",
    "        elif index < 0 or index > self._length:\n",
    "            print('index out of range.')\n",
    "\n",
    "\n",
    "        else:\n",
    "            self._head = self.rec_insert(self._head, index, val)\n",
    "            \n",
    "\n",
    "    def rec_insert(self, current, index, val):\n",
    "        \"\"\"Recursive helper method for insert\"\"\"\n",
    "        if index == 0:\n",
    "            new_node = Node(val)\n",
    "            new_node.next = current\n",
    "            self._length += 1\n",
    "            return new_node\n",
    "\n",
    "        if current is None:\n",
    "            self._length += 1\n",
    "            return Node(val)\n",
    "\n",
    "        current.next = self.rec_insert(current.next, index - 1, val)\n",
    "        return current\n",
    "\n",
    "    def reverse(self):\n",
    "        \"\"\"Reverses the linked list in place\"\"\"\n",
    "        self._head = self.rec_reverse(self._head)\n",
    "\n",
    "    def rec_reverse(self, current):\n",
    "        \"\"\"Recursive helper method for reverse\"\"\"\n",
    "        if current is None or current.next is None:\n",
    "            return current\n",
    "\n",
    "        rest = self.rec_reverse(current.next)\n",
    "        current.next.next = current\n",
    "        current.next = None\n",
    "        return rest\n",
    "\n",
    "    def to_plain_list(self):\n",
    "        \"\"\"Returns a regular Python list with the same values and order as the linked list\"\"\"\n",
    "        return self.rec_to_plain_list(self._head)\n",
    "\n",
    "    def rec_to_plain_list(self, current):\n",
    "        \"\"\"Recursive helper method for to_plain_list\"\"\"\n",
    "        if current is None:\n",
    "            return []\n",
    "        return [current.data] + self.rec_to_plain_list(current.next)\n",
    "\n",
    "    def get_head(self):\n",
    "        \"\"\"Returns the first Node object in the list\"\"\"\n",
    "        return self._head\n"
   ]
  },
  {
   "cell_type": "code",
   "execution_count": null,
   "metadata": {},
   "outputs": [
    {
     "data": {
      "text/plain": [
       "[8, 18, 1998, 2018]"
      ]
     },
     "execution_count": 235,
     "metadata": {},
     "output_type": "execute_result"
    }
   ],
   "source": [
    "mylist = LinkedList()\n",
    "mylist.add(8)\n",
    "mylist.add(18)\n",
    "mylist.add(1998)\n",
    "mylist.add(2008)\n",
    "mylist.add(2018)\n",
    "mylist.remove(2008)\n",
    "mylist.to_plain_list()\n"
   ]
  },
  {
   "cell_type": "code",
   "execution_count": null,
   "metadata": {},
   "outputs": [
    {
     "data": {
      "text/plain": [
       "[2018, 1998, 18, 8]"
      ]
     },
     "execution_count": 236,
     "metadata": {},
     "output_type": "execute_result"
    }
   ],
   "source": [
    "mylist.reverse()\n",
    "\n",
    "mylist.to_plain_list()"
   ]
  },
  {
   "cell_type": "code",
   "execution_count": null,
   "metadata": {},
   "outputs": [
    {
     "data": {
      "text/plain": [
       "[2018, 3, 1998, 18, 8]"
      ]
     },
     "execution_count": 237,
     "metadata": {},
     "output_type": "execute_result"
    }
   ],
   "source": [
    "mylist.insert(1,3)\n",
    "mylist.to_plain_list()"
   ]
  },
  {
   "cell_type": "code",
   "execution_count": null,
   "metadata": {},
   "outputs": [
    {
     "name": "stdout",
     "output_type": "stream",
     "text": [
      "10\n"
     ]
    }
   ],
   "source": [
    "def sum(num_1, num_2):    \n",
    "  \"\"\"Adds two numbers\"\"\"    \n",
    "  return num_1 + num_2\n",
    "  \n",
    "add = sum\n",
    "print(add(7, 3))"
   ]
  },
  {
   "cell_type": "code",
   "execution_count": null,
   "metadata": {},
   "outputs": [
    {
     "name": "stdout",
     "output_type": "stream",
     "text": [
      "17\n",
      "72\n"
     ]
    }
   ],
   "source": [
    "def sum(num_1, num_2):    \n",
    "  \"\"\"Adds two numbers\"\"\"    \n",
    "  return num_1 + num_2\n",
    "  \n",
    "def mult(num_1, num_2):    \n",
    "  \"\"\"Multiplies two numbers\"\"\"    \n",
    "  return num_1 * num_2\n",
    "\n",
    "def perform_binary_op(func, num_1, num_2):    \n",
    "  \"\"\"\n",
    "  Calls func(num_1, num_2) and returns the value returned by that function call\n",
    "  \"\"\"    \n",
    "  return func(num_1, num_2)\n",
    "  \n",
    "print(perform_binary_op(sum, 9, 8))\n",
    "print(perform_binary_op(mult, 9, 8))"
   ]
  },
  {
   "cell_type": "code",
   "execution_count": null,
   "metadata": {},
   "outputs": [
    {
     "name": "stdout",
     "output_type": "stream",
     "text": [
      "11\n"
     ]
    }
   ],
   "source": [
    "def double_plus_one(num):    \n",
    "  \"\"\"returns 1 plus double the value of the argument\"\"\"    \n",
    "  \n",
    "  def double(n):\n",
    "    \"\"\"returns double the value of the argument\"\"\"        \n",
    "    return n * 2    \n",
    "  \n",
    "  return double(num) + 1\n",
    "  \n",
    "print(double_plus_one(5))"
   ]
  },
  {
   "cell_type": "code",
   "execution_count": null,
   "metadata": {},
   "outputs": [
    {
     "name": "stdout",
     "output_type": "stream",
     "text": [
      "18\n"
     ]
    }
   ],
   "source": [
    "def get_double_func():    \n",
    "  \"\"\"Returns a function that doubles a number\"\"\"    \n",
    "\n",
    "  def double(n):  \n",
    "    \"\"\"Returns double the value of the argument\"\"\"      \n",
    "    return n * 2   \n",
    "\n",
    "  return double\n",
    "  \n",
    "twice = get_double_func()\n",
    "print(twice(9))"
   ]
  },
  {
   "cell_type": "code",
   "execution_count": null,
   "metadata": {},
   "outputs": [
    {
     "name": "stdout",
     "output_type": "stream",
     "text": [
      "63\n"
     ]
    }
   ],
   "source": [
    "def get_multiplier_by(factor):    \n",
    "  \"\"\"Returns a function that multiplies its argument by the given factor\"\"\"   \n",
    "\n",
    "  def multiplier(n):   \n",
    "    \"\"\"Multiplies the argument by a factor\"\"\"     \n",
    "    return n * factor   \n",
    "\n",
    "  return multiplier\n",
    "  \n",
    "mult7 = get_multiplier_by(7)\n",
    "print(mult7(9))"
   ]
  },
  {
   "cell_type": "code",
   "execution_count": null,
   "metadata": {},
   "outputs": [
    {
     "name": "stdout",
     "output_type": "stream",
     "text": [
      "additional behavior before the function call\n",
      "hello world\n",
      "additional behavior after the function call\n"
     ]
    }
   ],
   "source": [
    "def generic_decorator(func):    \n",
    "  \"\"\"Adds printing of generic messages to func\"\"\"    \n",
    "\n",
    "  def wrapper():        \n",
    "    print(\"additional behavior before the function call\")        \n",
    "    func()        \n",
    "    print(\"additional behavior after the function call\")   \n",
    "\n",
    "  return wrapper\n",
    "  \n",
    "def greeting():    \n",
    "  \"\"\"Prints a greeting\"\"\"    \n",
    "  print(\"hello world\")\n",
    "\n",
    "greeting = generic_decorator(greeting)\n",
    "    \n",
    "greeting()"
   ]
  },
  {
   "cell_type": "code",
   "execution_count": null,
   "metadata": {},
   "outputs": [
    {
     "name": "stdout",
     "output_type": "stream",
     "text": [
      "additional behavior before the function call\n",
      "hello world\n",
      "additional behavior after the function call\n"
     ]
    }
   ],
   "source": [
    "def generic_decorator(func):    \n",
    "  \"\"\"Adds printing of generic messages to func\"\"\"    \n",
    "  def wrapper():        \n",
    "    print(\"additional behavior before the function call\")        \n",
    "    func()        \n",
    "    print(\"additional behavior after the function call\")    \n",
    "  return wrapper\n",
    "    \n",
    "@generic_decorator  \n",
    "def greeting():    \n",
    "  \"\"\"Prints a greeting\"\"\"   \n",
    "  print(\"hello world\")\n",
    "  \n",
    "greeting()"
   ]
  },
  {
   "cell_type": "code",
   "execution_count": null,
   "metadata": {},
   "outputs": [
    {
     "name": "stdout",
     "output_type": "stream",
     "text": [
      "additional behavior before the function call\n",
      "additional behavior after the function call\n",
      "None\n"
     ]
    }
   ],
   "source": [
    "def generic_decorator(func):    \n",
    "  \"\"\"Adds printing of generic messages to func\"\"\"    \n",
    "  def wrapper():        \n",
    "    print(\"additional behavior before the function call\")        \n",
    "    func()        \n",
    "    print(\"additional behavior after the function call\")    \n",
    "  return wrapper\n",
    "\n",
    "@generic_decorator\n",
    "def greeting():\n",
    "    \"\"\"Returns a greeting\"\"\"\n",
    "    return \"hello world\"\n",
    "\n",
    "print(greeting())"
   ]
  },
  {
   "cell_type": "code",
   "execution_count": null,
   "metadata": {},
   "outputs": [
    {
     "name": "stdout",
     "output_type": "stream",
     "text": [
      "additional behavior before the function call\n",
      "additional behavior after the function call\n",
      "hello world\n"
     ]
    }
   ],
   "source": [
    "def generic_decorator(func):    \n",
    "  \"\"\"Adds printing of generic messages to func\"\"\"    \n",
    "  def wrapper():        \n",
    "    print(\"additional behavior before the function call\")        \n",
    "    result = func()        \n",
    "    print(\"additional behavior after the function call\")       \n",
    "    return result    \n",
    "  return wrapper\n",
    "  \n",
    "@generic_decorator\n",
    "def greeting():    \n",
    "  \"\"\"Returns a greeting\"\"\"    \n",
    "  return \"hello world\"\n",
    "\n",
    "print(greeting())"
   ]
  },
  {
   "cell_type": "code",
   "execution_count": null,
   "metadata": {},
   "outputs": [
    {
     "name": "stdout",
     "output_type": "stream",
     "text": [
      "additional behavior before the function call\n",
      "additional behavior after the function call\n",
      "2\n",
      "additional behavior before the function call\n",
      "additional behavior after the function call\n",
      "6\n"
     ]
    }
   ],
   "source": [
    "def generic_decorator(func):    \n",
    "  \"\"\"Adds printing of generic messages to func\"\"\"   \n",
    "\n",
    "  def wrapper(*args, **kwargs):         ## *args 和 **kwargs 传递可变数量参数\n",
    "\n",
    "    print(\"additional behavior before the function call\")   \n",
    "\n",
    "    result = func(*args, **kwargs)        \n",
    "\n",
    "    print(\"additional behavior after the function call\")        \n",
    "    return result    \n",
    "  \n",
    "  return wrapper\n",
    "\n",
    "@generic_decorator\n",
    "def increment(num):    \n",
    "  \"\"\"Increments num by 1\"\"\"    \n",
    "  return num + 1\n",
    "print(increment(1))\n",
    "\n",
    "@generic_decorator\n",
    "def add_three(num_1, num_2, num_3):    \n",
    "  \"\"\"Returns the sum of the three arguments\"\"\"    \n",
    "  return num_1 + num_2 + num_3\n",
    "print(add_three(1, 2, 3))"
   ]
  },
  {
   "cell_type": "code",
   "execution_count": 273,
   "metadata": {},
   "outputs": [
    {
     "name": "stdout",
     "output_type": "stream",
     "text": [
      "perspicacious\n"
     ]
    }
   ],
   "source": [
    "def concat_strings():\n",
    "    def cat(s1, s2):\n",
    "        return s1+s2\n",
    "    return cat\n",
    "\n",
    "\n",
    "print(cat(\"pers\", \"picacious\"))"
   ]
  },
  {
   "cell_type": "code",
   "execution_count": null,
   "metadata": {},
   "outputs": [],
   "source": []
  },
  {
   "cell_type": "code",
   "execution_count": 260,
   "metadata": {},
   "outputs": [
    {
     "data": {
      "text/plain": [
       "generator"
      ]
     },
     "execution_count": 260,
     "metadata": {},
     "output_type": "execute_result"
    }
   ],
   "source": [
    "stuff = (c for c in \"AlphAbEt\" if c.isupper())\n",
    "type(stuff)"
   ]
  },
  {
   "cell_type": "code",
   "execution_count": 261,
   "metadata": {},
   "outputs": [
    {
     "data": {
      "text/plain": [
       "list"
      ]
     },
     "execution_count": 261,
     "metadata": {},
     "output_type": "execute_result"
    }
   ],
   "source": [
    "junk = [x for x in range(100) if x%2]\n",
    "type(junk)"
   ]
  },
  {
   "cell_type": "code",
   "execution_count": 262,
   "metadata": {},
   "outputs": [
    {
     "data": {
      "text/plain": [
       "dict"
      ]
     },
     "execution_count": 262,
     "metadata": {},
     "output_type": "execute_result"
    }
   ],
   "source": [
    "paraphernalia = {'a': \"aacorn\", 'b': \"broccolini\"}\n",
    "type(paraphernalia)"
   ]
  },
  {
   "cell_type": "code",
   "execution_count": 264,
   "metadata": {},
   "outputs": [
    {
     "data": {
      "text/plain": [
       "set"
      ]
     },
     "execution_count": 264,
     "metadata": {},
     "output_type": "execute_result"
    }
   ],
   "source": [
    "panoply = {1, 2, 3, 4, 5}\n",
    "type(panoply)"
   ]
  },
  {
   "cell_type": "code",
   "execution_count": 275,
   "metadata": {},
   "outputs": [
    {
     "name": "stdout",
     "output_type": "stream",
     "text": [
      "2\n",
      "12\n",
      "1112\n",
      "3112\n",
      "132112\n",
      "1113122112\n",
      "311311222112\n",
      "13211321322112\n",
      "1113122113121113222112\n",
      "31131122211311123113322112\n",
      "132113213221133112132123222112\n",
      "11131221131211132221232112111312111213322112\n",
      "31131122211311123113321112131221123113111231121123222112\n",
      "1321132132211331121321231231121113112221121321133112132112211213322112\n",
      "11131221131211132221232112111312111213111213211231132132211211131221232112111312212221121123222112\n",
      "3113112221131112311332111213122112311311123112111331121113122112132113121113222112311311221112131221123113112211322112211213322112\n",
      "132113213221133112132123123112111311222112132113311213211231232112311311222112111312211311123113322112132113212231121113112221121321132122211322212221121123222112\n",
      "111312211312111322212321121113121112131112132112311321322112111312212321121113122112131112131221121321132132211231131122211331121321232221121113122113121122132112311321322112111312211312113221133211322112211213322112\n"
     ]
    }
   ],
   "source": [
    "def count_seq():\n",
    "    yield \"2\"  # Special case for the first term\n",
    "    prev_term = \"2\"\n",
    "\n",
    "    while True:\n",
    "        count = 1\n",
    "        current_term = \"\"\n",
    "\n",
    "        for i in range(1, len(prev_term)):\n",
    "            if prev_term[i] == prev_term[i - 1]:\n",
    "                count += 1\n",
    "            else:\n",
    "                current_term += str(count) + prev_term[i - 1]\n",
    "                count = 1\n",
    "\n",
    "        current_term += str(count) + prev_term[-1]  # Add the last count and digit\n",
    "        yield current_term\n",
    "        prev_term = current_term\n",
    "\n",
    "# Example usage:\n",
    "my_gen = count_seq()\n",
    "for i in range(18):\n",
    "    print(next(my_gen))\n"
   ]
  },
  {
   "cell_type": "code",
   "execution_count": null,
   "metadata": {},
   "outputs": [],
   "source": [
    "def bubble_sort(a_list):    \n",
    "  \"\"\"    \n",
    "  Sorts a_list in ascending order    \n",
    "  \"\"\"    \n",
    "  for pass_num in range(len(a_list) - 1):        \n",
    "    for index in range(len(a_list) - 1 - pass_num):            \n",
    "      if a_list[index] > a_list[index + 1]:                \n",
    "        temp = a_list[index]                \n",
    "        a_list[index] = a_list[index + 1]                \n",
    "        a_list[index + 1] = temp"
   ]
  },
  {
   "cell_type": "code",
   "execution_count": null,
   "metadata": {},
   "outputs": [],
   "source": [
    "def insertion_sort(a_list):    \n",
    "  \"\"\"    \n",
    "  Sorts a_list in ascending order    \n",
    "  \"\"\"    \n",
    "  for index in range(1, len(a_list)):        \n",
    "    value = a_list[index]        \n",
    "    pos = index - 1        \n",
    "    while pos >= 0 and a_list[pos] > value:            \n",
    "      a_list[pos + 1] = a_list[pos]            \n",
    "      pos -= 1        \n",
    "    a_list[pos + 1] = value"
   ]
  }
 ],
 "metadata": {
  "kernelspec": {
   "display_name": "Python 3",
   "language": "python",
   "name": "python3"
  },
  "language_info": {
   "codemirror_mode": {
    "name": "ipython",
    "version": 3
   },
   "file_extension": ".py",
   "mimetype": "text/x-python",
   "name": "python",
   "nbconvert_exporter": "python",
   "pygments_lexer": "ipython3",
   "version": "3.11.3"
  },
  "orig_nbformat": 4
 },
 "nbformat": 4,
 "nbformat_minor": 2
}
